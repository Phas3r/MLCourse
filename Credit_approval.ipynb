{
 "cells": [
  {
   "cell_type": "markdown",
   "metadata": {},
   "source": [
    "# Быстрый старт в анализ данных (Python 3!!!!!!)\n",
    "\n",
    "# Определение кредитоспособности клиента\n",
    "\n",
    "В данном датасете представлена информация по клиентам (все для всех параметров названия заменены для защиты конфиденциальности).\n",
    "Каждый клиент имеет метку - 0 или 1, обозначающую его кредитоспособность. 1 - клиент сможет выплатить кредит, 0 - наоборот\n",
    "\n",
    "\n"
   ]
  },
  {
   "cell_type": "code",
   "execution_count": 336,
   "metadata": {
    "collapsed": true
   },
   "outputs": [],
   "source": [
    "import numpy as np\n",
    "import matplotlib.pyplot as plt\n",
    "import pandas as pd\n",
    "%matplotlib inline\n",
    "import warnings\n",
    "warnings.filterwarnings('ignore')"
   ]
  },
  {
   "cell_type": "code",
   "execution_count": 337,
   "metadata": {
    "collapsed": false
   },
   "outputs": [],
   "source": [
    "#url = 'https://archive.ics.uci.edu/ml/machine-learning-databases/adult/adult.data'\n",
    "#data = pd.read_csv(url, header = None, sep = ', ', engine='python')\n",
    "data = pd.read_csv('australian.dat', sep = ', ', engine = 'python')"
   ]
  },
  {
   "cell_type": "code",
   "execution_count": 338,
   "metadata": {
    "collapsed": false
   },
   "outputs": [
    {
     "data": {
      "text/plain": [
       "RangeIndex(start=0, stop=690, step=1)"
      ]
     },
     "execution_count": 338,
     "metadata": {},
     "output_type": "execute_result"
    }
   ],
   "source": [
    "data.index"
   ]
  },
  {
   "cell_type": "markdown",
   "metadata": {},
   "source": [
    "# Description of the dataset\n",
    "\n",
    "THIS CREDIT DATA ORIGINATES FROM QUINLAN (see below).   \n",
    "\n",
    "1. Title: Australian Credit Approval\n",
    "\n",
    "2. Sources: \n",
    "    (confidential)\n",
    "    Submitted by quinlan@cs.su.oz.au\n",
    "\n",
    "3.  Past Usage:\n",
    "\n",
    "    See Quinlan,\n",
    "    * \"Simplifying decision trees\", Int J Man-Machine Studies 27,\n",
    "      Dec 1987, pp. 221-234.\n",
    "    * \"C4.5: Programs for Machine Learning\", Morgan Kaufmann, Oct 1992\n",
    "  \n",
    "4.  Relevant Information:\n",
    "\n",
    "    This file concerns credit card applications.  **All attribute names\n",
    "    and values have been changed to meaningless symbols to protect\n",
    "    confidentiality of the data.**\n",
    "  \n",
    "    This dataset is interesting because there is a good mix of\n",
    "    attributes -- continuous, nominal with small numbers of\n",
    "    values, and nominal with larger numbers of values.  There\n",
    "    are also a few missing values.\n",
    "  \n",
    "5.  Number of Instances: 690\n",
    "\n",
    "6.  Number of Attributes: 14 + class attribute\n",
    "\n",
    "7.  Attribute Information:   THERE ARE 6 NUMERICAL AND 8 CATEGORICAL ATTRIBUTES.\n",
    " \n",
    "                             THE LABELS HAVE BEEN CHANGED FOR THE CONVENIENCE\n",
    "                             OF THE STATISTICAL ALGORITHMS.   FOR EXAMPLE,\n",
    "                             ATTRIBUTE 4 ORIGINALLY HAD 3 LABELS p,g,gg AND\n",
    "                             THESE HAVE BEEN CHANGED TO LABELS 1,2,3.\n",
    "                             \n",
    "\n",
    "    A1:\t0,1    CATEGORICAL\n",
    "        a,b\n",
    "    A2:\tcontinuous.\n",
    "    A3:\tcontinuous.\n",
    "    A4:\t1,2,3         CATEGORICAL\n",
    "        p,g,gg\n",
    "    A5:  1, 2,3,4,5, 6,7,8,9,10,11,12,13,14    CATEGORICAL\n",
    "         ff,d,i,k,j,aa,m,c,w, e, q, r,cc, x \n",
    "         \n",
    "    A6:\t 1, 2,3, 4,5,6,7,8,9    CATEGORICAL\n",
    "        ff,dd,j,bb,v,n,o,h,z \n",
    "\n",
    "    A7:\tcontinuous.\n",
    "    A8:\t1, 0       CATEGORICAL\n",
    "        t, f.\n",
    "    A9: 1, 0\t    CATEGORICAL\n",
    "        t, f.\n",
    "    A10:\tcontinuous.\n",
    "    A11:  1, 0\t    CATEGORICAL\n",
    "          t, f.\n",
    "    A12:    1, 2, 3    CATEGORICAL\n",
    "            s, g, p \n",
    "    A13:\tcontinuous.\n",
    "    A14:\tcontinuous.\n",
    "    A15:   0,1\n",
    "           -,+        (class attribute)\n",
    "           Class 1 indicates clients with approved credits\n",
    "            \n",
    "8.  Missing Attribute Values:\n",
    "    37 cases (5%) HAD one or more missing values.  The missing\n",
    "    values from particular attributes WERE:\n",
    "\n",
    "    A1:  12\n",
    "    A2:  12\n",
    "    A4:   6\n",
    "    A5:   6\n",
    "    A6:   9\n",
    "    A7:   9\n",
    "    A14: 13\n",
    "    \n",
    "    THESE WERE REPLACED BY THE MODE OF THE ATTRIBUTE (CATEGORICAL)\n",
    "                               MEAN OF THE ATTRIBUTE (CONTINUOUS)\n",
    "                           \n",
    "9.  Class Distribution\n",
    "  \n",
    "    +: 307 (44.5%)    CLASS 1\n",
    "    -: 383 (55.5%)    CLASS 0\n",
    "\n",
    "\n",
    "10.  There is no cost matrix.\n",
    "\n",
    "\n"
   ]
  },
  {
   "cell_type": "code",
   "execution_count": 339,
   "metadata": {
    "collapsed": false
   },
   "outputs": [
    {
     "name": "stdout",
     "output_type": "stream",
     "text": [
      "(690, 15)\n",
      "Index(['A1', 'A2', 'A3', 'A4', 'A5', 'A6', 'A7', 'A8', 'A9', 'A10', 'A11',\n",
      "       'A12', 'A13', 'A14', 'class'],\n",
      "      dtype='object')\n"
     ]
    }
   ],
   "source": [
    "print(data.shape)\n",
    "print(data.columns)"
   ]
  },
  {
   "cell_type": "code",
   "execution_count": 340,
   "metadata": {
    "collapsed": false
   },
   "outputs": [
    {
     "data": {
      "text/plain": [
       "RangeIndex(start=0, stop=690, step=1)"
      ]
     },
     "execution_count": 340,
     "metadata": {},
     "output_type": "execute_result"
    }
   ],
   "source": [
    "data.index"
   ]
  },
  {
   "cell_type": "code",
   "execution_count": 341,
   "metadata": {
    "collapsed": false
   },
   "outputs": [
    {
     "data": {
      "text/html": [
       "<div>\n",
       "<table border=\"1\" class=\"dataframe\">\n",
       "  <thead>\n",
       "    <tr style=\"text-align: right;\">\n",
       "      <th></th>\n",
       "      <th>A1</th>\n",
       "      <th>A2</th>\n",
       "      <th>A3</th>\n",
       "      <th>A4</th>\n",
       "      <th>A5</th>\n",
       "      <th>A6</th>\n",
       "      <th>A7</th>\n",
       "      <th>A8</th>\n",
       "      <th>A9</th>\n",
       "      <th>A10</th>\n",
       "      <th>A11</th>\n",
       "      <th>A12</th>\n",
       "      <th>A13</th>\n",
       "      <th>A14</th>\n",
       "      <th>class</th>\n",
       "    </tr>\n",
       "  </thead>\n",
       "  <tbody>\n",
       "    <tr>\n",
       "      <th>count</th>\n",
       "      <td>690.000000</td>\n",
       "      <td>690.000000</td>\n",
       "      <td>690.000000</td>\n",
       "      <td>690.000000</td>\n",
       "      <td>690.000000</td>\n",
       "      <td>690.000000</td>\n",
       "      <td>690.000000</td>\n",
       "      <td>690.000000</td>\n",
       "      <td>690.000000</td>\n",
       "      <td>690.00000</td>\n",
       "      <td>690.000000</td>\n",
       "      <td>690.000000</td>\n",
       "      <td>690.000000</td>\n",
       "      <td>690.000000</td>\n",
       "      <td>690.000000</td>\n",
       "    </tr>\n",
       "    <tr>\n",
       "      <th>mean</th>\n",
       "      <td>0.678261</td>\n",
       "      <td>31.568203</td>\n",
       "      <td>4.758725</td>\n",
       "      <td>1.766667</td>\n",
       "      <td>7.372464</td>\n",
       "      <td>4.692754</td>\n",
       "      <td>2.223406</td>\n",
       "      <td>0.523188</td>\n",
       "      <td>0.427536</td>\n",
       "      <td>2.40000</td>\n",
       "      <td>0.457971</td>\n",
       "      <td>1.928986</td>\n",
       "      <td>184.014493</td>\n",
       "      <td>1018.385507</td>\n",
       "      <td>0.444928</td>\n",
       "    </tr>\n",
       "    <tr>\n",
       "      <th>std</th>\n",
       "      <td>0.467482</td>\n",
       "      <td>11.853273</td>\n",
       "      <td>4.978163</td>\n",
       "      <td>0.430063</td>\n",
       "      <td>3.683265</td>\n",
       "      <td>1.992316</td>\n",
       "      <td>3.346513</td>\n",
       "      <td>0.499824</td>\n",
       "      <td>0.495080</td>\n",
       "      <td>4.86294</td>\n",
       "      <td>0.498592</td>\n",
       "      <td>0.298813</td>\n",
       "      <td>172.159274</td>\n",
       "      <td>5210.102598</td>\n",
       "      <td>0.497318</td>\n",
       "    </tr>\n",
       "    <tr>\n",
       "      <th>min</th>\n",
       "      <td>0.000000</td>\n",
       "      <td>13.750000</td>\n",
       "      <td>0.000000</td>\n",
       "      <td>1.000000</td>\n",
       "      <td>1.000000</td>\n",
       "      <td>1.000000</td>\n",
       "      <td>0.000000</td>\n",
       "      <td>0.000000</td>\n",
       "      <td>0.000000</td>\n",
       "      <td>0.00000</td>\n",
       "      <td>0.000000</td>\n",
       "      <td>1.000000</td>\n",
       "      <td>0.000000</td>\n",
       "      <td>1.000000</td>\n",
       "      <td>0.000000</td>\n",
       "    </tr>\n",
       "    <tr>\n",
       "      <th>25%</th>\n",
       "      <td>0.000000</td>\n",
       "      <td>22.670000</td>\n",
       "      <td>1.000000</td>\n",
       "      <td>2.000000</td>\n",
       "      <td>4.000000</td>\n",
       "      <td>4.000000</td>\n",
       "      <td>0.165000</td>\n",
       "      <td>0.000000</td>\n",
       "      <td>0.000000</td>\n",
       "      <td>0.00000</td>\n",
       "      <td>0.000000</td>\n",
       "      <td>2.000000</td>\n",
       "      <td>80.000000</td>\n",
       "      <td>1.000000</td>\n",
       "      <td>0.000000</td>\n",
       "    </tr>\n",
       "    <tr>\n",
       "      <th>50%</th>\n",
       "      <td>1.000000</td>\n",
       "      <td>28.625000</td>\n",
       "      <td>2.750000</td>\n",
       "      <td>2.000000</td>\n",
       "      <td>8.000000</td>\n",
       "      <td>4.000000</td>\n",
       "      <td>1.000000</td>\n",
       "      <td>1.000000</td>\n",
       "      <td>0.000000</td>\n",
       "      <td>0.00000</td>\n",
       "      <td>0.000000</td>\n",
       "      <td>2.000000</td>\n",
       "      <td>160.000000</td>\n",
       "      <td>6.000000</td>\n",
       "      <td>0.000000</td>\n",
       "    </tr>\n",
       "    <tr>\n",
       "      <th>75%</th>\n",
       "      <td>1.000000</td>\n",
       "      <td>37.707500</td>\n",
       "      <td>7.207500</td>\n",
       "      <td>2.000000</td>\n",
       "      <td>10.000000</td>\n",
       "      <td>5.000000</td>\n",
       "      <td>2.625000</td>\n",
       "      <td>1.000000</td>\n",
       "      <td>1.000000</td>\n",
       "      <td>3.00000</td>\n",
       "      <td>1.000000</td>\n",
       "      <td>2.000000</td>\n",
       "      <td>272.000000</td>\n",
       "      <td>396.500000</td>\n",
       "      <td>1.000000</td>\n",
       "    </tr>\n",
       "    <tr>\n",
       "      <th>max</th>\n",
       "      <td>1.000000</td>\n",
       "      <td>80.250000</td>\n",
       "      <td>28.000000</td>\n",
       "      <td>3.000000</td>\n",
       "      <td>14.000000</td>\n",
       "      <td>9.000000</td>\n",
       "      <td>28.500000</td>\n",
       "      <td>1.000000</td>\n",
       "      <td>1.000000</td>\n",
       "      <td>67.00000</td>\n",
       "      <td>1.000000</td>\n",
       "      <td>3.000000</td>\n",
       "      <td>2000.000000</td>\n",
       "      <td>100001.000000</td>\n",
       "      <td>1.000000</td>\n",
       "    </tr>\n",
       "  </tbody>\n",
       "</table>\n",
       "</div>"
      ],
      "text/plain": [
       "               A1          A2          A3          A4          A5          A6  \\\n",
       "count  690.000000  690.000000  690.000000  690.000000  690.000000  690.000000   \n",
       "mean   0.678261    31.568203   4.758725    1.766667    7.372464    4.692754     \n",
       "std    0.467482    11.853273   4.978163    0.430063    3.683265    1.992316     \n",
       "min    0.000000    13.750000   0.000000    1.000000    1.000000    1.000000     \n",
       "25%    0.000000    22.670000   1.000000    2.000000    4.000000    4.000000     \n",
       "50%    1.000000    28.625000   2.750000    2.000000    8.000000    4.000000     \n",
       "75%    1.000000    37.707500   7.207500    2.000000    10.000000   5.000000     \n",
       "max    1.000000    80.250000   28.000000   3.000000    14.000000   9.000000     \n",
       "\n",
       "               A7          A8          A9        A10         A11         A12  \\\n",
       "count  690.000000  690.000000  690.000000  690.00000  690.000000  690.000000   \n",
       "mean   2.223406    0.523188    0.427536    2.40000    0.457971    1.928986     \n",
       "std    3.346513    0.499824    0.495080    4.86294    0.498592    0.298813     \n",
       "min    0.000000    0.000000    0.000000    0.00000    0.000000    1.000000     \n",
       "25%    0.165000    0.000000    0.000000    0.00000    0.000000    2.000000     \n",
       "50%    1.000000    1.000000    0.000000    0.00000    0.000000    2.000000     \n",
       "75%    2.625000    1.000000    1.000000    3.00000    1.000000    2.000000     \n",
       "max    28.500000   1.000000    1.000000    67.00000   1.000000    3.000000     \n",
       "\n",
       "               A13            A14       class  \n",
       "count  690.000000   690.000000     690.000000  \n",
       "mean   184.014493   1018.385507    0.444928    \n",
       "std    172.159274   5210.102598    0.497318    \n",
       "min    0.000000     1.000000       0.000000    \n",
       "25%    80.000000    1.000000       0.000000    \n",
       "50%    160.000000   6.000000       0.000000    \n",
       "75%    272.000000   396.500000     1.000000    \n",
       "max    2000.000000  100001.000000  1.000000    "
      ]
     },
     "execution_count": 341,
     "metadata": {},
     "output_type": "execute_result"
    }
   ],
   "source": [
    "data.describe()"
   ]
  },
  {
   "cell_type": "code",
   "execution_count": 342,
   "metadata": {
    "collapsed": false
   },
   "outputs": [
    {
     "data": {
      "image/png": "[encoded data removed]",
      "text/plain": [
       "<matplotlib.figure.Figure at 0x1758b27a470>"
      ]
     },
     "metadata": {},
     "output_type": "display_data"
    }
   ],
   "source": [
    "from pandas.tools.plotting import scatter_matrix\n",
    "scatter_matrix(data, alpha = .05, figsize = (10, 10))\n",
    "pass"
   ]
  },
  {
   "cell_type": "code",
   "execution_count": 343,
   "metadata": {
    "collapsed": false
   },
   "outputs": [
    {
     "data": {
      "text/html": [
       "<div>\n",
       "<table border=\"1\" class=\"dataframe\">\n",
       "  <thead>\n",
       "    <tr style=\"text-align: right;\">\n",
       "      <th></th>\n",
       "      <th>A1</th>\n",
       "      <th>A2</th>\n",
       "      <th>A3</th>\n",
       "      <th>A4</th>\n",
       "      <th>A5</th>\n",
       "      <th>A6</th>\n",
       "      <th>A7</th>\n",
       "      <th>A8</th>\n",
       "      <th>A9</th>\n",
       "      <th>A10</th>\n",
       "      <th>A11</th>\n",
       "      <th>A12</th>\n",
       "      <th>A13</th>\n",
       "      <th>A14</th>\n",
       "      <th>class</th>\n",
       "    </tr>\n",
       "  </thead>\n",
       "  <tbody>\n",
       "    <tr>\n",
       "      <th>A1</th>\n",
       "      <td>1.000000</td>\n",
       "      <td>0.036659</td>\n",
       "      <td>-0.028166</td>\n",
       "      <td>-0.063528</td>\n",
       "      <td>-0.005321</td>\n",
       "      <td>0.052658</td>\n",
       "      <td>0.097009</td>\n",
       "      <td>0.000918</td>\n",
       "      <td>-0.063256</td>\n",
       "      <td>-0.008427</td>\n",
       "      <td>0.053984</td>\n",
       "      <td>-0.059901</td>\n",
       "      <td>0.058595</td>\n",
       "      <td>0.003616</td>\n",
       "      <td>-0.013897</td>\n",
       "    </tr>\n",
       "    <tr>\n",
       "      <th>A2</th>\n",
       "      <td>0.036659</td>\n",
       "      <td>1.000000</td>\n",
       "      <td>0.201315</td>\n",
       "      <td>0.089503</td>\n",
       "      <td>-0.093877</td>\n",
       "      <td>0.028510</td>\n",
       "      <td>0.392788</td>\n",
       "      <td>0.204342</td>\n",
       "      <td>0.083680</td>\n",
       "      <td>0.185574</td>\n",
       "      <td>0.054779</td>\n",
       "      <td>0.020703</td>\n",
       "      <td>-0.077159</td>\n",
       "      <td>0.018539</td>\n",
       "      <td>0.161626</td>\n",
       "    </tr>\n",
       "    <tr>\n",
       "      <th>A3</th>\n",
       "      <td>-0.028166</td>\n",
       "      <td>0.201315</td>\n",
       "      <td>1.000000</td>\n",
       "      <td>0.091526</td>\n",
       "      <td>0.027665</td>\n",
       "      <td>0.094504</td>\n",
       "      <td>0.298902</td>\n",
       "      <td>0.244317</td>\n",
       "      <td>0.174846</td>\n",
       "      <td>0.271207</td>\n",
       "      <td>-0.013023</td>\n",
       "      <td>0.093752</td>\n",
       "      <td>-0.222346</td>\n",
       "      <td>0.123121</td>\n",
       "      <td>0.206294</td>\n",
       "    </tr>\n",
       "    <tr>\n",
       "      <th>A4</th>\n",
       "      <td>-0.063528</td>\n",
       "      <td>0.089503</td>\n",
       "      <td>0.091526</td>\n",
       "      <td>1.000000</td>\n",
       "      <td>0.088846</td>\n",
       "      <td>0.046639</td>\n",
       "      <td>0.080624</td>\n",
       "      <td>0.129863</td>\n",
       "      <td>0.162464</td>\n",
       "      <td>0.106457</td>\n",
       "      <td>0.004964</td>\n",
       "      <td>0.006400</td>\n",
       "      <td>-0.001758</td>\n",
       "      <td>0.120065</td>\n",
       "      <td>0.194306</td>\n",
       "    </tr>\n",
       "    <tr>\n",
       "      <th>A5</th>\n",
       "      <td>-0.005321</td>\n",
       "      <td>-0.093877</td>\n",
       "      <td>0.027665</td>\n",
       "      <td>0.088846</td>\n",
       "      <td>1.000000</td>\n",
       "      <td>0.402284</td>\n",
       "      <td>0.144757</td>\n",
       "      <td>0.311833</td>\n",
       "      <td>0.222957</td>\n",
       "      <td>0.150166</td>\n",
       "      <td>0.024738</td>\n",
       "      <td>0.070222</td>\n",
       "      <td>0.088140</td>\n",
       "      <td>0.030735</td>\n",
       "      <td>0.373712</td>\n",
       "    </tr>\n",
       "    <tr>\n",
       "      <th>A6</th>\n",
       "      <td>0.052658</td>\n",
       "      <td>0.028510</td>\n",
       "      <td>0.094504</td>\n",
       "      <td>0.046639</td>\n",
       "      <td>0.402284</td>\n",
       "      <td>1.000000</td>\n",
       "      <td>0.240400</td>\n",
       "      <td>0.246193</td>\n",
       "      <td>0.080397</td>\n",
       "      <td>0.098841</td>\n",
       "      <td>0.093641</td>\n",
       "      <td>0.036435</td>\n",
       "      <td>0.070662</td>\n",
       "      <td>0.064841</td>\n",
       "      <td>0.246567</td>\n",
       "    </tr>\n",
       "    <tr>\n",
       "      <th>A7</th>\n",
       "      <td>0.097009</td>\n",
       "      <td>0.392788</td>\n",
       "      <td>0.298902</td>\n",
       "      <td>0.080624</td>\n",
       "      <td>0.144757</td>\n",
       "      <td>0.240400</td>\n",
       "      <td>1.000000</td>\n",
       "      <td>0.345689</td>\n",
       "      <td>0.222982</td>\n",
       "      <td>0.322330</td>\n",
       "      <td>0.138139</td>\n",
       "      <td>-0.016297</td>\n",
       "      <td>-0.076389</td>\n",
       "      <td>0.051345</td>\n",
       "      <td>0.322475</td>\n",
       "    </tr>\n",
       "    <tr>\n",
       "      <th>A8</th>\n",
       "      <td>0.000918</td>\n",
       "      <td>0.204342</td>\n",
       "      <td>0.244317</td>\n",
       "      <td>0.129863</td>\n",
       "      <td>0.311833</td>\n",
       "      <td>0.246193</td>\n",
       "      <td>0.345689</td>\n",
       "      <td>1.000000</td>\n",
       "      <td>0.432032</td>\n",
       "      <td>0.379532</td>\n",
       "      <td>0.091276</td>\n",
       "      <td>0.045054</td>\n",
       "      <td>-0.067387</td>\n",
       "      <td>0.090012</td>\n",
       "      <td>0.720407</td>\n",
       "    </tr>\n",
       "    <tr>\n",
       "      <th>A9</th>\n",
       "      <td>-0.063256</td>\n",
       "      <td>0.083680</td>\n",
       "      <td>0.174846</td>\n",
       "      <td>0.162464</td>\n",
       "      <td>0.222957</td>\n",
       "      <td>0.080397</td>\n",
       "      <td>0.222982</td>\n",
       "      <td>0.432032</td>\n",
       "      <td>1.000000</td>\n",
       "      <td>0.571498</td>\n",
       "      <td>0.017043</td>\n",
       "      <td>0.176097</td>\n",
       "      <td>-0.053321</td>\n",
       "      <td>0.077652</td>\n",
       "      <td>0.458301</td>\n",
       "    </tr>\n",
       "    <tr>\n",
       "      <th>A10</th>\n",
       "      <td>-0.008427</td>\n",
       "      <td>0.185574</td>\n",
       "      <td>0.271207</td>\n",
       "      <td>0.106457</td>\n",
       "      <td>0.150166</td>\n",
       "      <td>0.098841</td>\n",
       "      <td>0.322330</td>\n",
       "      <td>0.379532</td>\n",
       "      <td>0.571498</td>\n",
       "      <td>1.000000</td>\n",
       "      <td>0.006944</td>\n",
       "      <td>0.101479</td>\n",
       "      <td>-0.119808</td>\n",
       "      <td>0.063692</td>\n",
       "      <td>0.406410</td>\n",
       "    </tr>\n",
       "    <tr>\n",
       "      <th>A11</th>\n",
       "      <td>0.053984</td>\n",
       "      <td>0.054779</td>\n",
       "      <td>-0.013023</td>\n",
       "      <td>0.004964</td>\n",
       "      <td>0.024738</td>\n",
       "      <td>0.093641</td>\n",
       "      <td>0.138139</td>\n",
       "      <td>0.091276</td>\n",
       "      <td>0.017043</td>\n",
       "      <td>0.006944</td>\n",
       "      <td>1.000000</td>\n",
       "      <td>-0.044417</td>\n",
       "      <td>0.144254</td>\n",
       "      <td>0.019201</td>\n",
       "      <td>0.031625</td>\n",
       "    </tr>\n",
       "    <tr>\n",
       "      <th>A12</th>\n",
       "      <td>-0.059901</td>\n",
       "      <td>0.020703</td>\n",
       "      <td>0.093752</td>\n",
       "      <td>0.006400</td>\n",
       "      <td>0.070222</td>\n",
       "      <td>0.036435</td>\n",
       "      <td>-0.016297</td>\n",
       "      <td>0.045054</td>\n",
       "      <td>0.176097</td>\n",
       "      <td>0.101479</td>\n",
       "      <td>-0.044417</td>\n",
       "      <td>1.000000</td>\n",
       "      <td>-0.079287</td>\n",
       "      <td>0.139674</td>\n",
       "      <td>0.115261</td>\n",
       "    </tr>\n",
       "    <tr>\n",
       "      <th>A13</th>\n",
       "      <td>0.058595</td>\n",
       "      <td>-0.077159</td>\n",
       "      <td>-0.222346</td>\n",
       "      <td>-0.001758</td>\n",
       "      <td>0.088140</td>\n",
       "      <td>0.070662</td>\n",
       "      <td>-0.076389</td>\n",
       "      <td>-0.067387</td>\n",
       "      <td>-0.053321</td>\n",
       "      <td>-0.119808</td>\n",
       "      <td>0.144254</td>\n",
       "      <td>-0.079287</td>\n",
       "      <td>1.000000</td>\n",
       "      <td>0.065609</td>\n",
       "      <td>-0.099972</td>\n",
       "    </tr>\n",
       "    <tr>\n",
       "      <th>A14</th>\n",
       "      <td>0.003616</td>\n",
       "      <td>0.018539</td>\n",
       "      <td>0.123121</td>\n",
       "      <td>0.120065</td>\n",
       "      <td>0.030735</td>\n",
       "      <td>0.064841</td>\n",
       "      <td>0.051345</td>\n",
       "      <td>0.090012</td>\n",
       "      <td>0.077652</td>\n",
       "      <td>0.063692</td>\n",
       "      <td>0.019201</td>\n",
       "      <td>0.139674</td>\n",
       "      <td>0.065609</td>\n",
       "      <td>1.000000</td>\n",
       "      <td>0.175657</td>\n",
       "    </tr>\n",
       "    <tr>\n",
       "      <th>class</th>\n",
       "      <td>-0.013897</td>\n",
       "      <td>0.161626</td>\n",
       "      <td>0.206294</td>\n",
       "      <td>0.194306</td>\n",
       "      <td>0.373712</td>\n",
       "      <td>0.246567</td>\n",
       "      <td>0.322475</td>\n",
       "      <td>0.720407</td>\n",
       "      <td>0.458301</td>\n",
       "      <td>0.406410</td>\n",
       "      <td>0.031625</td>\n",
       "      <td>0.115261</td>\n",
       "      <td>-0.099972</td>\n",
       "      <td>0.175657</td>\n",
       "      <td>1.000000</td>\n",
       "    </tr>\n",
       "  </tbody>\n",
       "</table>\n",
       "</div>"
      ],
      "text/plain": [
       "             A1        A2        A3        A4        A5        A6        A7  \\\n",
       "A1     1.000000  0.036659 -0.028166 -0.063528 -0.005321  0.052658  0.097009   \n",
       "A2     0.036659  1.000000  0.201315  0.089503 -0.093877  0.028510  0.392788   \n",
       "A3    -0.028166  0.201315  1.000000  0.091526  0.027665  0.094504  0.298902   \n",
       "A4    -0.063528  0.089503  0.091526  1.000000  0.088846  0.046639  0.080624   \n",
       "A5    -0.005321 -0.093877  0.027665  0.088846  1.000000  0.402284  0.144757   \n",
       "A6     0.052658  0.028510  0.094504  0.046639  0.402284  1.000000  0.240400   \n",
       "A7     0.097009  0.392788  0.298902  0.080624  0.144757  0.240400  1.000000   \n",
       "A8     0.000918  0.204342  0.244317  0.129863  0.311833  0.246193  0.345689   \n",
       "A9    -0.063256  0.083680  0.174846  0.162464  0.222957  0.080397  0.222982   \n",
       "A10   -0.008427  0.185574  0.271207  0.106457  0.150166  0.098841  0.322330   \n",
       "A11    0.053984  0.054779 -0.013023  0.004964  0.024738  0.093641  0.138139   \n",
       "A12   -0.059901  0.020703  0.093752  0.006400  0.070222  0.036435 -0.016297   \n",
       "A13    0.058595 -0.077159 -0.222346 -0.001758  0.088140  0.070662 -0.076389   \n",
       "A14    0.003616  0.018539  0.123121  0.120065  0.030735  0.064841  0.051345   \n",
       "class -0.013897  0.161626  0.206294  0.194306  0.373712  0.246567  0.322475   \n",
       "\n",
       "             A8        A9       A10       A11       A12       A13       A14  \\\n",
       "A1     0.000918 -0.063256 -0.008427  0.053984 -0.059901  0.058595  0.003616   \n",
       "A2     0.204342  0.083680  0.185574  0.054779  0.020703 -0.077159  0.018539   \n",
       "A3     0.244317  0.174846  0.271207 -0.013023  0.093752 -0.222346  0.123121   \n",
       "A4     0.129863  0.162464  0.106457  0.004964  0.006400 -0.001758  0.120065   \n",
       "A5     0.311833  0.222957  0.150166  0.024738  0.070222  0.088140  0.030735   \n",
       "A6     0.246193  0.080397  0.098841  0.093641  0.036435  0.070662  0.064841   \n",
       "A7     0.345689  0.222982  0.322330  0.138139 -0.016297 -0.076389  0.051345   \n",
       "A8     1.000000  0.432032  0.379532  0.091276  0.045054 -0.067387  0.090012   \n",
       "A9     0.432032  1.000000  0.571498  0.017043  0.176097 -0.053321  0.077652   \n",
       "A10    0.379532  0.571498  1.000000  0.006944  0.101479 -0.119808  0.063692   \n",
       "A11    0.091276  0.017043  0.006944  1.000000 -0.044417  0.144254  0.019201   \n",
       "A12    0.045054  0.176097  0.101479 -0.044417  1.000000 -0.079287  0.139674   \n",
       "A13   -0.067387 -0.053321 -0.119808  0.144254 -0.079287  1.000000  0.065609   \n",
       "A14    0.090012  0.077652  0.063692  0.019201  0.139674  0.065609  1.000000   \n",
       "class  0.720407  0.458301  0.406410  0.031625  0.115261 -0.099972  0.175657   \n",
       "\n",
       "          class  \n",
       "A1    -0.013897  \n",
       "A2     0.161626  \n",
       "A3     0.206294  \n",
       "A4     0.194306  \n",
       "A5     0.373712  \n",
       "A6     0.246567  \n",
       "A7     0.322475  \n",
       "A8     0.720407  \n",
       "A9     0.458301  \n",
       "A10    0.406410  \n",
       "A11    0.031625  \n",
       "A12    0.115261  \n",
       "A13   -0.099972  \n",
       "A14    0.175657  \n",
       "class  1.000000  "
      ]
     },
     "execution_count": 343,
     "metadata": {},
     "output_type": "execute_result"
    }
   ],
   "source": [
    "data.corr()"
   ]
  },
  {
   "cell_type": "markdown",
   "metadata": {},
   "source": [
    "Как видно из матрицы, наибольшее значение на определение кредитоспособности клиента, скорее всего, имеют параметры A5, A8, A9, A10 (корреляции больше 0.35). Более того, по одному бинарному параметру А8 можно с вероятностью 0.720407 верно предсказать кредитоспособность клиента."
   ]
  },
  {
   "cell_type": "code",
   "execution_count": 344,
   "metadata": {
    "collapsed": false
   },
   "outputs": [
    {
     "data": {
      "image/png": "[encoded data removed]",
      "text/plain": [
       "<matplotlib.figure.Figure at 0x175993d1ba8>"
      ]
     },
     "metadata": {},
     "output_type": "display_data"
    }
   ],
   "source": [
    "plt.plot(data['A2'], data['A3'], 'o', alpha = 0.15)\n",
    "plt.xlabel('A2')\n",
    "plt.ylabel('A3')\n",
    "pass"
   ]
  },
  {
   "cell_type": "code",
   "execution_count": 345,
   "metadata": {
    "collapsed": false
   },
   "outputs": [
    {
     "data": {
      "image/png": "[encoded data removed]",
      "text/plain": [
       "<matplotlib.figure.Figure at 0x17595f7f9b0>"
      ]
     },
     "metadata": {},
     "output_type": "display_data"
    }
   ],
   "source": [
    "plt.plot(data['A8'], data['A7'], 'o', alpha = 0.15)\n",
    "plt.xlabel('A8')\n",
    "plt.ylabel('A7')\n",
    "pass"
   ]
  },
  {
   "cell_type": "code",
   "execution_count": 346,
   "metadata": {
    "collapsed": false
   },
   "outputs": [
    {
     "data": {
      "text/plain": [
       "383"
      ]
     },
     "execution_count": 346,
     "metadata": {},
     "output_type": "execute_result"
    }
   ],
   "source": [
    "sum(data['class'] == 0)"
   ]
  },
  {
   "cell_type": "markdown",
   "metadata": {},
   "source": [
    "2 параметра с самыми сильными корреляциями с полем **class**: А3 и А10"
   ]
  },
  {
   "cell_type": "code",
   "execution_count": 347,
   "metadata": {
    "collapsed": false
   },
   "outputs": [
    {
     "data": {
      "image/png": "[encoded data removed]",
      "text/plain": [
       "<matplotlib.figure.Figure at 0x1759949e470>"
      ]
     },
     "metadata": {},
     "output_type": "display_data"
    }
   ],
   "source": [
    "plt.figure(figsize = (10, 6))\n",
    "\n",
    "plt.scatter(data[data['class'] == 0]['A10'],\n",
    "            data[data['class'] == 0]['A3'],\n",
    "            alpha = 0.15,\n",
    "            label = 'declined',\n",
    "            color = 'b')\n",
    "\n",
    "plt.scatter(data[data['class'] == 1]['A10'],\n",
    "            data[data['class'] == 1]['A3'],\n",
    "            alpha = 0.15,\n",
    "            label = 'approved',\n",
    "            color = 'r')\n",
    "\n",
    "plt.xlabel('A10')\n",
    "plt.xticks(range(0, 67, 5))\n",
    "plt.xlim(0, 67)\n",
    "plt.ylabel('A3')\n",
    "plt.legend()\n",
    "plt.grid()"
   ]
  },
  {
   "cell_type": "code",
   "execution_count": 348,
   "metadata": {
    "collapsed": false
   },
   "outputs": [
    {
     "data": {
      "text/plain": [
       "array([0, 1], dtype=int64)"
      ]
     },
     "execution_count": 348,
     "metadata": {},
     "output_type": "execute_result"
    }
   ],
   "source": [
    "data['A8'].unique()"
   ]
  },
  {
   "cell_type": "code",
   "execution_count": 349,
   "metadata": {
    "collapsed": false
   },
   "outputs": [
    {
     "data": {
      "text/plain": [
       "array([0, 1], dtype=int64)"
      ]
     },
     "execution_count": 349,
     "metadata": {},
     "output_type": "execute_result"
    }
   ],
   "source": [
    "data['A9'].unique()"
   ]
  },
  {
   "cell_type": "markdown",
   "metadata": {},
   "source": [
    "## Задача\n",
    "\n",
    "Удалим поля, которые имеют малую корреляцию с **class** (по модулю менее 0.15)"
   ]
  },
  {
   "cell_type": "code",
   "execution_count": 350,
   "metadata": {
    "collapsed": false
   },
   "outputs": [],
   "source": [
    "data = data.drop('A1', axis = 1)\\\n",
    "           .drop('A11', axis = 1)\\\n",
    "           .drop('A12',    axis = 1)\\\n",
    "           .drop('A13', axis = 1)"
   ]
  },
  {
   "cell_type": "markdown",
   "metadata": {},
   "source": [
    "# Готовим данные"
   ]
  },
  {
   "cell_type": "code",
   "execution_count": 351,
   "metadata": {
    "collapsed": false
   },
   "outputs": [
    {
     "data": {
      "text/plain": [
       "Index(['A2', 'A3', 'A4', 'A5', 'A6', 'A7', 'A8', 'A9', 'A10', 'A14', 'class'], dtype='object')"
      ]
     },
     "execution_count": 351,
     "metadata": {},
     "output_type": "execute_result"
    }
   ],
   "source": [
    "data.columns"
   ]
  },
  {
   "cell_type": "code",
   "execution_count": 352,
   "metadata": {
    "collapsed": true
   },
   "outputs": [],
   "source": [
    "#categorical_columns = []\n",
    "#numerical_columns = []\n",
    "#for c in data.columns:\n",
    "#    if data[c].dtype.name == 'object':\n",
    "#        categorical_columns.append(c)\n",
    "#    else:\n",
    "#        numerical_columns.append(c)          "
   ]
  },
  {
   "cell_type": "code",
   "execution_count": 353,
   "metadata": {
    "collapsed": false
   },
   "outputs": [
    {
     "name": "stdout",
     "output_type": "stream",
     "text": [
      "['A4', 'A5', 'A6', 'A8', 'A9', 'class']\n",
      "['A2', 'A3', 'A7', 'A10', 'A14']\n"
     ]
    }
   ],
   "source": [
    "categorical_columns = ['A4', 'A5', 'A6', 'A8', 'A9', 'class']\n",
    "numerical_columns   = ['A2', 'A3', 'A7', 'A10', 'A14']\n",
    "print(categorical_columns)\n",
    "print(numerical_columns)"
   ]
  },
  {
   "cell_type": "code",
   "execution_count": 354,
   "metadata": {
    "collapsed": false
   },
   "outputs": [
    {
     "name": "stdout",
     "output_type": "stream",
     "text": [
      "A4 [2 1 3]\n",
      "A5 [ 4  8  5  6  3 11  2 14  9 13  7  1 10 12]\n",
      "A6 [4 3 8 1 5 9 2 7]\n",
      "A8 [0 1]\n",
      "A9 [0 1]\n",
      "class [0 1]\n"
     ]
    }
   ],
   "source": [
    "for c in categorical_columns:\n",
    "    print(c, data[c].unique())"
   ]
  },
  {
   "cell_type": "code",
   "execution_count": 355,
   "metadata": {
    "collapsed": false
   },
   "outputs": [
    {
     "data": {
      "text/plain": [
       "A2     690\n",
       "A3     690\n",
       "A7     690\n",
       "A10    690\n",
       "A14    690\n",
       "dtype: int64"
      ]
     },
     "execution_count": 355,
     "metadata": {},
     "output_type": "execute_result"
    }
   ],
   "source": [
    "data[numerical_columns].count(axis = 0)"
   ]
  },
  {
   "cell_type": "code",
   "execution_count": 356,
   "metadata": {
    "collapsed": false
   },
   "outputs": [
    {
     "data": {
      "text/plain": [
       "A4       690\n",
       "A5       690\n",
       "A6       690\n",
       "A8       690\n",
       "A9       690\n",
       "class    690\n",
       "dtype: int64"
      ]
     },
     "execution_count": 356,
     "metadata": {},
     "output_type": "execute_result"
    }
   ],
   "source": [
    "data_describe = data.describe()\n",
    "data[categorical_columns].count(axis = 0)"
   ]
  },
  {
   "cell_type": "code",
   "execution_count": 357,
   "metadata": {
    "collapsed": false
   },
   "outputs": [
    {
     "data": {
      "text/plain": [
       "array([2, 1, 3], dtype=int64)"
      ]
     },
     "execution_count": 357,
     "metadata": {},
     "output_type": "execute_result"
    }
   ],
   "source": [
    "data['A4'].unique()"
   ]
  },
  {
   "cell_type": "code",
   "execution_count": 358,
   "metadata": {
    "collapsed": false
   },
   "outputs": [
    {
     "data": {
      "text/html": [
       "<div>\n",
       "<table border=\"1\" class=\"dataframe\">\n",
       "  <thead>\n",
       "    <tr style=\"text-align: right;\">\n",
       "      <th></th>\n",
       "      <th>A2</th>\n",
       "      <th>A3</th>\n",
       "      <th>A4</th>\n",
       "      <th>A5</th>\n",
       "      <th>A6</th>\n",
       "      <th>A7</th>\n",
       "      <th>A8</th>\n",
       "      <th>A9</th>\n",
       "      <th>A10</th>\n",
       "      <th>A14</th>\n",
       "      <th>class</th>\n",
       "    </tr>\n",
       "  </thead>\n",
       "  <tbody>\n",
       "    <tr>\n",
       "      <th>count</th>\n",
       "      <td>690.000000</td>\n",
       "      <td>690.000000</td>\n",
       "      <td>690.000000</td>\n",
       "      <td>690.000000</td>\n",
       "      <td>690.000000</td>\n",
       "      <td>690.000000</td>\n",
       "      <td>690.000000</td>\n",
       "      <td>690.000000</td>\n",
       "      <td>690.00000</td>\n",
       "      <td>690.000000</td>\n",
       "      <td>690.000000</td>\n",
       "    </tr>\n",
       "    <tr>\n",
       "      <th>mean</th>\n",
       "      <td>31.568203</td>\n",
       "      <td>4.758725</td>\n",
       "      <td>1.766667</td>\n",
       "      <td>7.372464</td>\n",
       "      <td>4.692754</td>\n",
       "      <td>2.223406</td>\n",
       "      <td>0.523188</td>\n",
       "      <td>0.427536</td>\n",
       "      <td>2.40000</td>\n",
       "      <td>1018.385507</td>\n",
       "      <td>0.444928</td>\n",
       "    </tr>\n",
       "    <tr>\n",
       "      <th>std</th>\n",
       "      <td>11.853273</td>\n",
       "      <td>4.978163</td>\n",
       "      <td>0.430063</td>\n",
       "      <td>3.683265</td>\n",
       "      <td>1.992316</td>\n",
       "      <td>3.346513</td>\n",
       "      <td>0.499824</td>\n",
       "      <td>0.495080</td>\n",
       "      <td>4.86294</td>\n",
       "      <td>5210.102598</td>\n",
       "      <td>0.497318</td>\n",
       "    </tr>\n",
       "    <tr>\n",
       "      <th>min</th>\n",
       "      <td>13.750000</td>\n",
       "      <td>0.000000</td>\n",
       "      <td>1.000000</td>\n",
       "      <td>1.000000</td>\n",
       "      <td>1.000000</td>\n",
       "      <td>0.000000</td>\n",
       "      <td>0.000000</td>\n",
       "      <td>0.000000</td>\n",
       "      <td>0.00000</td>\n",
       "      <td>1.000000</td>\n",
       "      <td>0.000000</td>\n",
       "    </tr>\n",
       "    <tr>\n",
       "      <th>25%</th>\n",
       "      <td>22.670000</td>\n",
       "      <td>1.000000</td>\n",
       "      <td>2.000000</td>\n",
       "      <td>4.000000</td>\n",
       "      <td>4.000000</td>\n",
       "      <td>0.165000</td>\n",
       "      <td>0.000000</td>\n",
       "      <td>0.000000</td>\n",
       "      <td>0.00000</td>\n",
       "      <td>1.000000</td>\n",
       "      <td>0.000000</td>\n",
       "    </tr>\n",
       "    <tr>\n",
       "      <th>50%</th>\n",
       "      <td>28.625000</td>\n",
       "      <td>2.750000</td>\n",
       "      <td>2.000000</td>\n",
       "      <td>8.000000</td>\n",
       "      <td>4.000000</td>\n",
       "      <td>1.000000</td>\n",
       "      <td>1.000000</td>\n",
       "      <td>0.000000</td>\n",
       "      <td>0.00000</td>\n",
       "      <td>6.000000</td>\n",
       "      <td>0.000000</td>\n",
       "    </tr>\n",
       "    <tr>\n",
       "      <th>75%</th>\n",
       "      <td>37.707500</td>\n",
       "      <td>7.207500</td>\n",
       "      <td>2.000000</td>\n",
       "      <td>10.000000</td>\n",
       "      <td>5.000000</td>\n",
       "      <td>2.625000</td>\n",
       "      <td>1.000000</td>\n",
       "      <td>1.000000</td>\n",
       "      <td>3.00000</td>\n",
       "      <td>396.500000</td>\n",
       "      <td>1.000000</td>\n",
       "    </tr>\n",
       "    <tr>\n",
       "      <th>max</th>\n",
       "      <td>80.250000</td>\n",
       "      <td>28.000000</td>\n",
       "      <td>3.000000</td>\n",
       "      <td>14.000000</td>\n",
       "      <td>9.000000</td>\n",
       "      <td>28.500000</td>\n",
       "      <td>1.000000</td>\n",
       "      <td>1.000000</td>\n",
       "      <td>67.00000</td>\n",
       "      <td>100001.000000</td>\n",
       "      <td>1.000000</td>\n",
       "    </tr>\n",
       "  </tbody>\n",
       "</table>\n",
       "</div>"
      ],
      "text/plain": [
       "               A2          A3          A4          A5          A6          A7  \\\n",
       "count  690.000000  690.000000  690.000000  690.000000  690.000000  690.000000   \n",
       "mean   31.568203   4.758725    1.766667    7.372464    4.692754    2.223406     \n",
       "std    11.853273   4.978163    0.430063    3.683265    1.992316    3.346513     \n",
       "min    13.750000   0.000000    1.000000    1.000000    1.000000    0.000000     \n",
       "25%    22.670000   1.000000    2.000000    4.000000    4.000000    0.165000     \n",
       "50%    28.625000   2.750000    2.000000    8.000000    4.000000    1.000000     \n",
       "75%    37.707500   7.207500    2.000000    10.000000   5.000000    2.625000     \n",
       "max    80.250000   28.000000   3.000000    14.000000   9.000000    28.500000    \n",
       "\n",
       "               A8          A9        A10            A14       class  \n",
       "count  690.000000  690.000000  690.00000  690.000000     690.000000  \n",
       "mean   0.523188    0.427536    2.40000    1018.385507    0.444928    \n",
       "std    0.499824    0.495080    4.86294    5210.102598    0.497318    \n",
       "min    0.000000    0.000000    0.00000    1.000000       0.000000    \n",
       "25%    0.000000    0.000000    0.00000    1.000000       0.000000    \n",
       "50%    1.000000    0.000000    0.00000    6.000000       0.000000    \n",
       "75%    1.000000    1.000000    3.00000    396.500000     1.000000    \n",
       "max    1.000000    1.000000    67.00000   100001.000000  1.000000    "
      ]
     },
     "execution_count": 358,
     "metadata": {},
     "output_type": "execute_result"
    }
   ],
   "source": [
    "data_describe"
   ]
  },
  {
   "cell_type": "code",
   "execution_count": null,
   "metadata": {
    "collapsed": true
   },
   "outputs": [],
   "source": []
  },
  {
   "cell_type": "markdown",
   "metadata": {},
   "source": [
    "## Векторизация\n",
    "\n",
    "Нужно что-то сделать с категориальными (номинальными) признаками"
   ]
  },
  {
   "cell_type": "code",
   "execution_count": 359,
   "metadata": {
    "collapsed": false
   },
   "outputs": [
    {
     "name": "stdout",
     "output_type": "stream",
     "text": [
      "['A8', 'A9', 'class'] ['A4', 'A5', 'A6']\n"
     ]
    }
   ],
   "source": [
    "binary_columns    = [c for c in categorical_columns if len(data[c].unique()) == 2]\n",
    "nonbinary_columns = [c for c in categorical_columns if len(data[c].unique()) > 2]\n",
    "print(binary_columns, nonbinary_columns)"
   ]
  },
  {
   "cell_type": "code",
   "execution_count": 360,
   "metadata": {
    "collapsed": true
   },
   "outputs": [],
   "source": [
    "data = data.astype(object)"
   ]
  },
  {
   "cell_type": "markdown",
   "metadata": {},
   "source": [
    "К небинарными признакам применим метод _векторизации_, \n",
    "который заключается в следующем.\n",
    "\n",
    "Признак `j`, принимающий `s` значений, заменим на `s` признаков, принимащих значения `0` или `1`,\n",
    "в зависимости от того, чему равно значение исходного признака `j`.\n",
    "\n",
    "Например, в нашей задаче признак `race` принимает 5 различных значений: "
   ]
  },
  {
   "cell_type": "code",
   "execution_count": 361,
   "metadata": {
    "collapsed": false
   },
   "outputs": [
    {
     "name": "stdout",
     "output_type": "stream",
     "text": [
      "Index(['A4_1', 'A4_2', 'A4_3', 'A5_1', 'A5_2', 'A5_3', 'A5_4', 'A5_5', 'A5_6',\n",
      "       'A5_7', 'A5_8', 'A5_9', 'A5_10', 'A5_11', 'A5_12', 'A5_13', 'A5_14',\n",
      "       'A6_1', 'A6_2', 'A6_3', 'A6_4', 'A6_5', 'A6_7', 'A6_8', 'A6_9'],\n",
      "      dtype='object')\n"
     ]
    }
   ],
   "source": [
    "data_nonbinary = pd.get_dummies(data[nonbinary_columns])\n",
    "print(data_nonbinary.columns)"
   ]
  },
  {
   "cell_type": "code",
   "execution_count": 362,
   "metadata": {
    "collapsed": false
   },
   "outputs": [],
   "source": [
    "data_nonbinary = data_nonbinary.astype('int64')\n"
   ]
  },
  {
   "cell_type": "markdown",
   "metadata": {},
   "source": [
    "## Нормализация количественных признаков\n",
    "\n",
    "Многие алгоритмы машинного обучения чувствительны к масштабированию данных.\n",
    "К таким алгоритмам, например, относится метод ближайших соседей, машина опорных векторов и др.\n",
    "\n",
    "В этом случае количественные признаки полезно _нормализовать_.\n",
    "Это можно делать разными способами.\n",
    "Например, каждый количественный признак приведем к нулевому среднему и единичному среднеквадратичному отклонению:"
   ]
  },
  {
   "cell_type": "code",
   "execution_count": 363,
   "metadata": {
    "collapsed": false
   },
   "outputs": [
    {
     "data": {
      "text/html": [
       "<div>\n",
       "<table border=\"1\" class=\"dataframe\">\n",
       "  <thead>\n",
       "    <tr style=\"text-align: right;\">\n",
       "      <th></th>\n",
       "      <th>A2</th>\n",
       "      <th>A3</th>\n",
       "      <th>A7</th>\n",
       "      <th>A10</th>\n",
       "      <th>A14</th>\n",
       "    </tr>\n",
       "  </thead>\n",
       "  <tbody>\n",
       "    <tr>\n",
       "      <th>count</th>\n",
       "      <td>690.00</td>\n",
       "      <td>690.0</td>\n",
       "      <td>690.0</td>\n",
       "      <td>690</td>\n",
       "      <td>690</td>\n",
       "    </tr>\n",
       "    <tr>\n",
       "      <th>unique</th>\n",
       "      <td>350.00</td>\n",
       "      <td>215.0</td>\n",
       "      <td>132.0</td>\n",
       "      <td>23</td>\n",
       "      <td>240</td>\n",
       "    </tr>\n",
       "    <tr>\n",
       "      <th>top</th>\n",
       "      <td>31.57</td>\n",
       "      <td>1.5</td>\n",
       "      <td>0.0</td>\n",
       "      <td>0</td>\n",
       "      <td>1</td>\n",
       "    </tr>\n",
       "    <tr>\n",
       "      <th>freq</th>\n",
       "      <td>12.00</td>\n",
       "      <td>21.0</td>\n",
       "      <td>70.0</td>\n",
       "      <td>395</td>\n",
       "      <td>295</td>\n",
       "    </tr>\n",
       "  </tbody>\n",
       "</table>\n",
       "</div>"
      ],
      "text/plain": [
       "            A2     A3     A7  A10  A14\n",
       "count   690.00  690.0  690.0  690  690\n",
       "unique  350.00  215.0  132.0  23   240\n",
       "top     31.57   1.5    0.0    0    1  \n",
       "freq    12.00   21.0   70.0   395  295"
      ]
     },
     "execution_count": 363,
     "metadata": {},
     "output_type": "execute_result"
    }
   ],
   "source": [
    "data_numerical = data[numerical_columns]\n",
    "data_numerical.describe()"
   ]
  },
  {
   "cell_type": "code",
   "execution_count": 364,
   "metadata": {
    "collapsed": true
   },
   "outputs": [],
   "source": [
    "data_numerical = (data_numerical - data_numerical.mean(axis = 0))/data_numerical.std(axis = 0)"
   ]
  },
  {
   "cell_type": "code",
   "execution_count": 365,
   "metadata": {
    "collapsed": true
   },
   "outputs": [],
   "source": [
    "data_numerical=data_numerical.astype('float64')"
   ]
  },
  {
   "cell_type": "code",
   "execution_count": 366,
   "metadata": {
    "collapsed": false
   },
   "outputs": [
    {
     "data": {
      "text/html": [
       "<div>\n",
       "<table border=\"1\" class=\"dataframe\">\n",
       "  <thead>\n",
       "    <tr style=\"text-align: right;\">\n",
       "      <th></th>\n",
       "      <th>A2</th>\n",
       "      <th>A3</th>\n",
       "      <th>A7</th>\n",
       "      <th>A10</th>\n",
       "      <th>A14</th>\n",
       "    </tr>\n",
       "  </thead>\n",
       "  <tbody>\n",
       "    <tr>\n",
       "      <th>count</th>\n",
       "      <td>6.900000e+02</td>\n",
       "      <td>6.900000e+02</td>\n",
       "      <td>6.900000e+02</td>\n",
       "      <td>6.900000e+02</td>\n",
       "      <td>6.900000e+02</td>\n",
       "    </tr>\n",
       "    <tr>\n",
       "      <th>mean</th>\n",
       "      <td>7.024333e-15</td>\n",
       "      <td>3.472263e-16</td>\n",
       "      <td>5.127943e-16</td>\n",
       "      <td>1.444899e-16</td>\n",
       "      <td>5.084500e-17</td>\n",
       "    </tr>\n",
       "    <tr>\n",
       "      <th>std</th>\n",
       "      <td>1.000000e+00</td>\n",
       "      <td>1.000000e+00</td>\n",
       "      <td>1.000000e+00</td>\n",
       "      <td>1.000000e+00</td>\n",
       "      <td>1.000000e+00</td>\n",
       "    </tr>\n",
       "    <tr>\n",
       "      <th>min</th>\n",
       "      <td>-1.503231e+00</td>\n",
       "      <td>-9.559198e-01</td>\n",
       "      <td>-6.643947e-01</td>\n",
       "      <td>-4.935286e-01</td>\n",
       "      <td>-1.952717e-01</td>\n",
       "    </tr>\n",
       "    <tr>\n",
       "      <th>25%</th>\n",
       "      <td>-7.506959e-01</td>\n",
       "      <td>-7.550425e-01</td>\n",
       "      <td>-6.150897e-01</td>\n",
       "      <td>-4.935286e-01</td>\n",
       "      <td>-1.952717e-01</td>\n",
       "    </tr>\n",
       "    <tr>\n",
       "      <th>50%</th>\n",
       "      <td>-2.483030e-01</td>\n",
       "      <td>-4.035072e-01</td>\n",
       "      <td>-3.655762e-01</td>\n",
       "      <td>-4.935286e-01</td>\n",
       "      <td>-1.943120e-01</td>\n",
       "    </tr>\n",
       "    <tr>\n",
       "      <th>75%</th>\n",
       "      <td>5.179411e-01</td>\n",
       "      <td>4.919034e-01</td>\n",
       "      <td>1.200038e-01</td>\n",
       "      <td>1.233822e-01</td>\n",
       "      <td>-1.193615e-01</td>\n",
       "    </tr>\n",
       "    <tr>\n",
       "      <th>max</th>\n",
       "      <td>4.107034e+00</td>\n",
       "      <td>4.668645e+00</td>\n",
       "      <td>7.851932e+00</td>\n",
       "      <td>1.328414e+01</td>\n",
       "      <td>1.899821e+01</td>\n",
       "    </tr>\n",
       "  </tbody>\n",
       "</table>\n",
       "</div>"
      ],
      "text/plain": [
       "                 A2            A3            A7           A10           A14\n",
       "count  6.900000e+02  6.900000e+02  6.900000e+02  6.900000e+02  6.900000e+02\n",
       "mean   7.024333e-15  3.472263e-16  5.127943e-16  1.444899e-16  5.084500e-17\n",
       "std    1.000000e+00  1.000000e+00  1.000000e+00  1.000000e+00  1.000000e+00\n",
       "min   -1.503231e+00 -9.559198e-01 -6.643947e-01 -4.935286e-01 -1.952717e-01\n",
       "25%   -7.506959e-01 -7.550425e-01 -6.150897e-01 -4.935286e-01 -1.952717e-01\n",
       "50%   -2.483030e-01 -4.035072e-01 -3.655762e-01 -4.935286e-01 -1.943120e-01\n",
       "75%    5.179411e-01  4.919034e-01  1.200038e-01  1.233822e-01 -1.193615e-01\n",
       "max    4.107034e+00  4.668645e+00  7.851932e+00  1.328414e+01  1.899821e+01"
      ]
     },
     "execution_count": 366,
     "metadata": {},
     "output_type": "execute_result"
    }
   ],
   "source": [
    "data_numerical.describe()"
   ]
  },
  {
   "cell_type": "markdown",
   "metadata": {},
   "source": [
    "## Соединяем все в одну таблицу"
   ]
  },
  {
   "cell_type": "code",
   "execution_count": 367,
   "metadata": {
    "collapsed": true
   },
   "outputs": [],
   "source": [
    "data[binary_columns] = data[binary_columns].astype('int64')"
   ]
  },
  {
   "cell_type": "code",
   "execution_count": 368,
   "metadata": {
    "collapsed": false
   },
   "outputs": [
    {
     "name": "stdout",
     "output_type": "stream",
     "text": [
      "(690, 33)\n"
     ]
    }
   ],
   "source": [
    "data = pd.concat((data_numerical, data_nonbinary, data[binary_columns]), axis = 1)\n",
    "print(data.shape)\n",
    "#print data.columns"
   ]
  },
  {
   "cell_type": "code",
   "execution_count": 369,
   "metadata": {
    "collapsed": false
   },
   "outputs": [
    {
     "data": {
      "text/html": [
       "<div>\n",
       "<table border=\"1\" class=\"dataframe\">\n",
       "  <thead>\n",
       "    <tr style=\"text-align: right;\">\n",
       "      <th></th>\n",
       "      <th>A2</th>\n",
       "      <th>A3</th>\n",
       "      <th>A7</th>\n",
       "      <th>A10</th>\n",
       "      <th>A14</th>\n",
       "      <th>A4_1</th>\n",
       "      <th>A4_2</th>\n",
       "      <th>A4_3</th>\n",
       "      <th>A5_1</th>\n",
       "      <th>A5_2</th>\n",
       "      <th>A5_3</th>\n",
       "      <th>A5_4</th>\n",
       "      <th>A5_5</th>\n",
       "      <th>A5_6</th>\n",
       "      <th>A5_7</th>\n",
       "      <th>A5_8</th>\n",
       "      <th>A5_9</th>\n",
       "      <th>A5_10</th>\n",
       "      <th>A5_11</th>\n",
       "      <th>A5_12</th>\n",
       "      <th>A5_13</th>\n",
       "      <th>A5_14</th>\n",
       "      <th>A6_1</th>\n",
       "      <th>A6_2</th>\n",
       "      <th>A6_3</th>\n",
       "      <th>A6_4</th>\n",
       "      <th>A6_5</th>\n",
       "      <th>A6_7</th>\n",
       "      <th>A6_8</th>\n",
       "      <th>A6_9</th>\n",
       "      <th>A8</th>\n",
       "      <th>A9</th>\n",
       "      <th>class</th>\n",
       "    </tr>\n",
       "  </thead>\n",
       "  <tbody>\n",
       "    <tr>\n",
       "      <th>count</th>\n",
       "      <td>6.900000e+02</td>\n",
       "      <td>6.900000e+02</td>\n",
       "      <td>6.900000e+02</td>\n",
       "      <td>6.900000e+02</td>\n",
       "      <td>6.900000e+02</td>\n",
       "      <td>690.000000</td>\n",
       "      <td>690.000000</td>\n",
       "      <td>690.000000</td>\n",
       "      <td>690.000000</td>\n",
       "      <td>690.000000</td>\n",
       "      <td>690.000000</td>\n",
       "      <td>690.000000</td>\n",
       "      <td>690.000000</td>\n",
       "      <td>690.000000</td>\n",
       "      <td>690.000000</td>\n",
       "      <td>690.000000</td>\n",
       "      <td>690.000000</td>\n",
       "      <td>690.000000</td>\n",
       "      <td>690.000000</td>\n",
       "      <td>690.000000</td>\n",
       "      <td>690.000000</td>\n",
       "      <td>690.000000</td>\n",
       "      <td>690.000000</td>\n",
       "      <td>690.000000</td>\n",
       "      <td>690.000000</td>\n",
       "      <td>690.000000</td>\n",
       "      <td>690.000000</td>\n",
       "      <td>690.000000</td>\n",
       "      <td>690.00000</td>\n",
       "      <td>690.000000</td>\n",
       "      <td>690.000000</td>\n",
       "      <td>690.000000</td>\n",
       "      <td>690.000000</td>\n",
       "    </tr>\n",
       "    <tr>\n",
       "      <th>mean</th>\n",
       "      <td>7.024333e-15</td>\n",
       "      <td>3.472263e-16</td>\n",
       "      <td>5.127943e-16</td>\n",
       "      <td>1.444899e-16</td>\n",
       "      <td>5.084500e-17</td>\n",
       "      <td>0.236232</td>\n",
       "      <td>0.760870</td>\n",
       "      <td>0.002899</td>\n",
       "      <td>0.076812</td>\n",
       "      <td>0.043478</td>\n",
       "      <td>0.085507</td>\n",
       "      <td>0.073913</td>\n",
       "      <td>0.014493</td>\n",
       "      <td>0.078261</td>\n",
       "      <td>0.055072</td>\n",
       "      <td>0.211594</td>\n",
       "      <td>0.092754</td>\n",
       "      <td>0.036232</td>\n",
       "      <td>0.113043</td>\n",
       "      <td>0.004348</td>\n",
       "      <td>0.059420</td>\n",
       "      <td>0.055072</td>\n",
       "      <td>0.082609</td>\n",
       "      <td>0.008696</td>\n",
       "      <td>0.011594</td>\n",
       "      <td>0.591304</td>\n",
       "      <td>0.085507</td>\n",
       "      <td>0.008696</td>\n",
       "      <td>0.20000</td>\n",
       "      <td>0.011594</td>\n",
       "      <td>0.523188</td>\n",
       "      <td>0.427536</td>\n",
       "      <td>0.444928</td>\n",
       "    </tr>\n",
       "    <tr>\n",
       "      <th>std</th>\n",
       "      <td>1.000000e+00</td>\n",
       "      <td>1.000000e+00</td>\n",
       "      <td>1.000000e+00</td>\n",
       "      <td>1.000000e+00</td>\n",
       "      <td>1.000000e+00</td>\n",
       "      <td>0.425074</td>\n",
       "      <td>0.426862</td>\n",
       "      <td>0.053799</td>\n",
       "      <td>0.266485</td>\n",
       "      <td>0.204079</td>\n",
       "      <td>0.279838</td>\n",
       "      <td>0.261819</td>\n",
       "      <td>0.119597</td>\n",
       "      <td>0.268776</td>\n",
       "      <td>0.228287</td>\n",
       "      <td>0.408735</td>\n",
       "      <td>0.290297</td>\n",
       "      <td>0.187002</td>\n",
       "      <td>0.316876</td>\n",
       "      <td>0.065842</td>\n",
       "      <td>0.236581</td>\n",
       "      <td>0.228287</td>\n",
       "      <td>0.275490</td>\n",
       "      <td>0.092912</td>\n",
       "      <td>0.107128</td>\n",
       "      <td>0.491949</td>\n",
       "      <td>0.279838</td>\n",
       "      <td>0.092912</td>\n",
       "      <td>0.40029</td>\n",
       "      <td>0.107128</td>\n",
       "      <td>0.499824</td>\n",
       "      <td>0.495080</td>\n",
       "      <td>0.497318</td>\n",
       "    </tr>\n",
       "    <tr>\n",
       "      <th>min</th>\n",
       "      <td>-1.503231e+00</td>\n",
       "      <td>-9.559198e-01</td>\n",
       "      <td>-6.643947e-01</td>\n",
       "      <td>-4.935286e-01</td>\n",
       "      <td>-1.952717e-01</td>\n",
       "      <td>0.000000</td>\n",
       "      <td>0.000000</td>\n",
       "      <td>0.000000</td>\n",
       "      <td>0.000000</td>\n",
       "      <td>0.000000</td>\n",
       "      <td>0.000000</td>\n",
       "      <td>0.000000</td>\n",
       "      <td>0.000000</td>\n",
       "      <td>0.000000</td>\n",
       "      <td>0.000000</td>\n",
       "      <td>0.000000</td>\n",
       "      <td>0.000000</td>\n",
       "      <td>0.000000</td>\n",
       "      <td>0.000000</td>\n",
       "      <td>0.000000</td>\n",
       "      <td>0.000000</td>\n",
       "      <td>0.000000</td>\n",
       "      <td>0.000000</td>\n",
       "      <td>0.000000</td>\n",
       "      <td>0.000000</td>\n",
       "      <td>0.000000</td>\n",
       "      <td>0.000000</td>\n",
       "      <td>0.000000</td>\n",
       "      <td>0.00000</td>\n",
       "      <td>0.000000</td>\n",
       "      <td>0.000000</td>\n",
       "      <td>0.000000</td>\n",
       "      <td>0.000000</td>\n",
       "    </tr>\n",
       "    <tr>\n",
       "      <th>25%</th>\n",
       "      <td>-7.506959e-01</td>\n",
       "      <td>-7.550425e-01</td>\n",
       "      <td>-6.150897e-01</td>\n",
       "      <td>-4.935286e-01</td>\n",
       "      <td>-1.952717e-01</td>\n",
       "      <td>0.000000</td>\n",
       "      <td>1.000000</td>\n",
       "      <td>0.000000</td>\n",
       "      <td>0.000000</td>\n",
       "      <td>0.000000</td>\n",
       "      <td>0.000000</td>\n",
       "      <td>0.000000</td>\n",
       "      <td>0.000000</td>\n",
       "      <td>0.000000</td>\n",
       "      <td>0.000000</td>\n",
       "      <td>0.000000</td>\n",
       "      <td>0.000000</td>\n",
       "      <td>0.000000</td>\n",
       "      <td>0.000000</td>\n",
       "      <td>0.000000</td>\n",
       "      <td>0.000000</td>\n",
       "      <td>0.000000</td>\n",
       "      <td>0.000000</td>\n",
       "      <td>0.000000</td>\n",
       "      <td>0.000000</td>\n",
       "      <td>0.000000</td>\n",
       "      <td>0.000000</td>\n",
       "      <td>0.000000</td>\n",
       "      <td>0.00000</td>\n",
       "      <td>0.000000</td>\n",
       "      <td>0.000000</td>\n",
       "      <td>0.000000</td>\n",
       "      <td>0.000000</td>\n",
       "    </tr>\n",
       "    <tr>\n",
       "      <th>50%</th>\n",
       "      <td>-2.483030e-01</td>\n",
       "      <td>-4.035072e-01</td>\n",
       "      <td>-3.655762e-01</td>\n",
       "      <td>-4.935286e-01</td>\n",
       "      <td>-1.943120e-01</td>\n",
       "      <td>0.000000</td>\n",
       "      <td>1.000000</td>\n",
       "      <td>0.000000</td>\n",
       "      <td>0.000000</td>\n",
       "      <td>0.000000</td>\n",
       "      <td>0.000000</td>\n",
       "      <td>0.000000</td>\n",
       "      <td>0.000000</td>\n",
       "      <td>0.000000</td>\n",
       "      <td>0.000000</td>\n",
       "      <td>0.000000</td>\n",
       "      <td>0.000000</td>\n",
       "      <td>0.000000</td>\n",
       "      <td>0.000000</td>\n",
       "      <td>0.000000</td>\n",
       "      <td>0.000000</td>\n",
       "      <td>0.000000</td>\n",
       "      <td>0.000000</td>\n",
       "      <td>0.000000</td>\n",
       "      <td>0.000000</td>\n",
       "      <td>1.000000</td>\n",
       "      <td>0.000000</td>\n",
       "      <td>0.000000</td>\n",
       "      <td>0.00000</td>\n",
       "      <td>0.000000</td>\n",
       "      <td>1.000000</td>\n",
       "      <td>0.000000</td>\n",
       "      <td>0.000000</td>\n",
       "    </tr>\n",
       "    <tr>\n",
       "      <th>75%</th>\n",
       "      <td>5.179411e-01</td>\n",
       "      <td>4.919034e-01</td>\n",
       "      <td>1.200038e-01</td>\n",
       "      <td>1.233822e-01</td>\n",
       "      <td>-1.193615e-01</td>\n",
       "      <td>0.000000</td>\n",
       "      <td>1.000000</td>\n",
       "      <td>0.000000</td>\n",
       "      <td>0.000000</td>\n",
       "      <td>0.000000</td>\n",
       "      <td>0.000000</td>\n",
       "      <td>0.000000</td>\n",
       "      <td>0.000000</td>\n",
       "      <td>0.000000</td>\n",
       "      <td>0.000000</td>\n",
       "      <td>0.000000</td>\n",
       "      <td>0.000000</td>\n",
       "      <td>0.000000</td>\n",
       "      <td>0.000000</td>\n",
       "      <td>0.000000</td>\n",
       "      <td>0.000000</td>\n",
       "      <td>0.000000</td>\n",
       "      <td>0.000000</td>\n",
       "      <td>0.000000</td>\n",
       "      <td>0.000000</td>\n",
       "      <td>1.000000</td>\n",
       "      <td>0.000000</td>\n",
       "      <td>0.000000</td>\n",
       "      <td>0.00000</td>\n",
       "      <td>0.000000</td>\n",
       "      <td>1.000000</td>\n",
       "      <td>1.000000</td>\n",
       "      <td>1.000000</td>\n",
       "    </tr>\n",
       "    <tr>\n",
       "      <th>max</th>\n",
       "      <td>4.107034e+00</td>\n",
       "      <td>4.668645e+00</td>\n",
       "      <td>7.851932e+00</td>\n",
       "      <td>1.328414e+01</td>\n",
       "      <td>1.899821e+01</td>\n",
       "      <td>1.000000</td>\n",
       "      <td>1.000000</td>\n",
       "      <td>1.000000</td>\n",
       "      <td>1.000000</td>\n",
       "      <td>1.000000</td>\n",
       "      <td>1.000000</td>\n",
       "      <td>1.000000</td>\n",
       "      <td>1.000000</td>\n",
       "      <td>1.000000</td>\n",
       "      <td>1.000000</td>\n",
       "      <td>1.000000</td>\n",
       "      <td>1.000000</td>\n",
       "      <td>1.000000</td>\n",
       "      <td>1.000000</td>\n",
       "      <td>1.000000</td>\n",
       "      <td>1.000000</td>\n",
       "      <td>1.000000</td>\n",
       "      <td>1.000000</td>\n",
       "      <td>1.000000</td>\n",
       "      <td>1.000000</td>\n",
       "      <td>1.000000</td>\n",
       "      <td>1.000000</td>\n",
       "      <td>1.000000</td>\n",
       "      <td>1.00000</td>\n",
       "      <td>1.000000</td>\n",
       "      <td>1.000000</td>\n",
       "      <td>1.000000</td>\n",
       "      <td>1.000000</td>\n",
       "    </tr>\n",
       "  </tbody>\n",
       "</table>\n",
       "</div>"
      ],
      "text/plain": [
       "                 A2            A3            A7           A10           A14  \\\n",
       "count  6.900000e+02  6.900000e+02  6.900000e+02  6.900000e+02  6.900000e+02   \n",
       "mean   7.024333e-15  3.472263e-16  5.127943e-16  1.444899e-16  5.084500e-17   \n",
       "std    1.000000e+00  1.000000e+00  1.000000e+00  1.000000e+00  1.000000e+00   \n",
       "min   -1.503231e+00 -9.559198e-01 -6.643947e-01 -4.935286e-01 -1.952717e-01   \n",
       "25%   -7.506959e-01 -7.550425e-01 -6.150897e-01 -4.935286e-01 -1.952717e-01   \n",
       "50%   -2.483030e-01 -4.035072e-01 -3.655762e-01 -4.935286e-01 -1.943120e-01   \n",
       "75%    5.179411e-01  4.919034e-01  1.200038e-01  1.233822e-01 -1.193615e-01   \n",
       "max    4.107034e+00  4.668645e+00  7.851932e+00  1.328414e+01  1.899821e+01   \n",
       "\n",
       "             A4_1        A4_2        A4_3        A5_1        A5_2        A5_3  \\\n",
       "count  690.000000  690.000000  690.000000  690.000000  690.000000  690.000000   \n",
       "mean   0.236232    0.760870    0.002899    0.076812    0.043478    0.085507     \n",
       "std    0.425074    0.426862    0.053799    0.266485    0.204079    0.279838     \n",
       "min    0.000000    0.000000    0.000000    0.000000    0.000000    0.000000     \n",
       "25%    0.000000    1.000000    0.000000    0.000000    0.000000    0.000000     \n",
       "50%    0.000000    1.000000    0.000000    0.000000    0.000000    0.000000     \n",
       "75%    0.000000    1.000000    0.000000    0.000000    0.000000    0.000000     \n",
       "max    1.000000    1.000000    1.000000    1.000000    1.000000    1.000000     \n",
       "\n",
       "             A5_4        A5_5        A5_6        A5_7        A5_8        A5_9  \\\n",
       "count  690.000000  690.000000  690.000000  690.000000  690.000000  690.000000   \n",
       "mean   0.073913    0.014493    0.078261    0.055072    0.211594    0.092754     \n",
       "std    0.261819    0.119597    0.268776    0.228287    0.408735    0.290297     \n",
       "min    0.000000    0.000000    0.000000    0.000000    0.000000    0.000000     \n",
       "25%    0.000000    0.000000    0.000000    0.000000    0.000000    0.000000     \n",
       "50%    0.000000    0.000000    0.000000    0.000000    0.000000    0.000000     \n",
       "75%    0.000000    0.000000    0.000000    0.000000    0.000000    0.000000     \n",
       "max    1.000000    1.000000    1.000000    1.000000    1.000000    1.000000     \n",
       "\n",
       "            A5_10       A5_11       A5_12       A5_13       A5_14        A6_1  \\\n",
       "count  690.000000  690.000000  690.000000  690.000000  690.000000  690.000000   \n",
       "mean   0.036232    0.113043    0.004348    0.059420    0.055072    0.082609     \n",
       "std    0.187002    0.316876    0.065842    0.236581    0.228287    0.275490     \n",
       "min    0.000000    0.000000    0.000000    0.000000    0.000000    0.000000     \n",
       "25%    0.000000    0.000000    0.000000    0.000000    0.000000    0.000000     \n",
       "50%    0.000000    0.000000    0.000000    0.000000    0.000000    0.000000     \n",
       "75%    0.000000    0.000000    0.000000    0.000000    0.000000    0.000000     \n",
       "max    1.000000    1.000000    1.000000    1.000000    1.000000    1.000000     \n",
       "\n",
       "             A6_2        A6_3        A6_4        A6_5        A6_7       A6_8  \\\n",
       "count  690.000000  690.000000  690.000000  690.000000  690.000000  690.00000   \n",
       "mean   0.008696    0.011594    0.591304    0.085507    0.008696    0.20000     \n",
       "std    0.092912    0.107128    0.491949    0.279838    0.092912    0.40029     \n",
       "min    0.000000    0.000000    0.000000    0.000000    0.000000    0.00000     \n",
       "25%    0.000000    0.000000    0.000000    0.000000    0.000000    0.00000     \n",
       "50%    0.000000    0.000000    1.000000    0.000000    0.000000    0.00000     \n",
       "75%    0.000000    0.000000    1.000000    0.000000    0.000000    0.00000     \n",
       "max    1.000000    1.000000    1.000000    1.000000    1.000000    1.00000     \n",
       "\n",
       "             A6_9          A8          A9       class  \n",
       "count  690.000000  690.000000  690.000000  690.000000  \n",
       "mean   0.011594    0.523188    0.427536    0.444928    \n",
       "std    0.107128    0.499824    0.495080    0.497318    \n",
       "min    0.000000    0.000000    0.000000    0.000000    \n",
       "25%    0.000000    0.000000    0.000000    0.000000    \n",
       "50%    0.000000    1.000000    0.000000    0.000000    \n",
       "75%    0.000000    1.000000    1.000000    1.000000    \n",
       "max    1.000000    1.000000    1.000000    1.000000    "
      ]
     },
     "execution_count": 369,
     "metadata": {},
     "output_type": "execute_result"
    }
   ],
   "source": [
    "data.describe()"
   ]
  },
  {
   "cell_type": "markdown",
   "metadata": {},
   "source": [
    "# X и y"
   ]
  },
  {
   "cell_type": "code",
   "execution_count": 370,
   "metadata": {
    "collapsed": false
   },
   "outputs": [],
   "source": [
    "X = data.drop(('class'), axis = 1) # выбрасываем столбец 'class'\n",
    "y = data['class']\n",
    "feature_names = X.columns\n"
   ]
  },
  {
   "cell_type": "code",
   "execution_count": 371,
   "metadata": {
    "collapsed": false
   },
   "outputs": [
    {
     "data": {
      "text/plain": [
       "pandas.indexes.base.Index"
      ]
     },
     "execution_count": 371,
     "metadata": {},
     "output_type": "execute_result"
    }
   ],
   "source": [
    "type(feature_names)"
   ]
  },
  {
   "cell_type": "code",
   "execution_count": 372,
   "metadata": {
    "collapsed": false
   },
   "outputs": [
    {
     "data": {
      "text/plain": [
       "Index(['A2', 'A3', 'A7', 'A10', 'A14', 'A4_1', 'A4_2', 'A4_3', 'A5_1', 'A5_2',\n",
       "       'A5_3', 'A5_4', 'A5_5', 'A5_6', 'A5_7', 'A5_8', 'A5_9', 'A5_10',\n",
       "       'A5_11', 'A5_12', 'A5_13', 'A5_14', 'A6_1', 'A6_2', 'A6_3', 'A6_4',\n",
       "       'A6_5', 'A6_7', 'A6_8', 'A6_9', 'A8', 'A9'],\n",
       "      dtype='object')"
      ]
     },
     "execution_count": 372,
     "metadata": {},
     "output_type": "execute_result"
    }
   ],
   "source": [
    "feature_names"
   ]
  },
  {
   "cell_type": "code",
   "execution_count": 373,
   "metadata": {
    "collapsed": false
   },
   "outputs": [
    {
     "name": "stdout",
     "output_type": "stream",
     "text": [
      "(690, 32)\n",
      "(690,)\n"
     ]
    }
   ],
   "source": [
    "print(X.shape)\n",
    "print(y.shape)\n",
    "N, d = X.shape"
   ]
  },
  {
   "cell_type": "code",
   "execution_count": 374,
   "metadata": {
    "collapsed": false
   },
   "outputs": [
    {
     "name": "stdout",
     "output_type": "stream",
     "text": [
      "483 207\n"
     ]
    }
   ],
   "source": [
    "from sklearn.cross_validation import train_test_split\n",
    "X_train, X_test, y_train, y_test = train_test_split(X, y, test_size = 0.3, random_state = 1)\n",
    "\n",
    "N_train, _ = X_train.shape \n",
    "N_test,  _ = X_test.shape \n",
    "\n",
    "print(N_train, N_test)"
   ]
  },
  {
   "cell_type": "markdown",
   "metadata": {},
   "source": [
    "# $k$NN"
   ]
  },
  {
   "cell_type": "code",
   "execution_count": 375,
   "metadata": {
    "collapsed": false
   },
   "outputs": [
    {
     "data": {
      "text/plain": [
       "KNeighborsClassifier(algorithm='auto', leaf_size=30, metric='minkowski',\n",
       "           metric_params=None, n_jobs=1, n_neighbors=10, p=2,\n",
       "           weights='uniform')"
      ]
     },
     "execution_count": 375,
     "metadata": {},
     "output_type": "execute_result"
    }
   ],
   "source": [
    "from sklearn.neighbors import KNeighborsClassifier\n",
    "\n",
    "knn = KNeighborsClassifier(n_neighbors = 10)\n",
    "#knn.set_params(n_neighbors=10)\n",
    "knn.fit(X_train, y_train)"
   ]
  },
  {
   "cell_type": "code",
   "execution_count": 376,
   "metadata": {
    "collapsed": false
   },
   "outputs": [
    {
     "name": "stdout",
     "output_type": "stream",
     "text": [
      "0.15734989648 0.173913043478\n"
     ]
    }
   ],
   "source": [
    "y_train_predict = knn.predict(X_train)\n",
    "y_test_predict = knn.predict(X_test)\n",
    "\n",
    "err_train = np.mean(y_train != y_train_predict)\n",
    "err_test  = np.mean(y_test  != y_test_predict)\n",
    "\n",
    "print(err_train, err_test)"
   ]
  },
  {
   "cell_type": "code",
   "execution_count": 377,
   "metadata": {
    "collapsed": true
   },
   "outputs": [],
   "source": [
    "err_test = 1 - knn.score(X_test, y_test) # Другой способ"
   ]
  },
  {
   "cell_type": "code",
   "execution_count": 378,
   "metadata": {
    "collapsed": false
   },
   "outputs": [
    {
     "data": {
      "text/plain": [
       "0.17391304347826086"
      ]
     },
     "execution_count": 378,
     "metadata": {},
     "output_type": "execute_result"
    }
   ],
   "source": [
    "err_test"
   ]
  },
  {
   "cell_type": "code",
   "execution_count": 379,
   "metadata": {
    "collapsed": false
   },
   "outputs": [
    {
     "name": "stdout",
     "output_type": "stream",
     "text": [
      "[[103  12]\n",
      " [ 24  68]]\n"
     ]
    }
   ],
   "source": [
    "from sklearn.metrics import confusion_matrix\n",
    "\n",
    "print(confusion_matrix(y_test, y_test_predict))"
   ]
  },
  {
   "cell_type": "markdown",
   "metadata": {},
   "source": [
    "### Подбор параметров"
   ]
  },
  {
   "cell_type": "code",
   "execution_count": 380,
   "metadata": {
    "collapsed": false
   },
   "outputs": [
    {
     "name": "stdout",
     "output_type": "stream",
     "text": [
      "0.163561076605 17\n"
     ]
    }
   ],
   "source": [
    "# Долго!\n",
    "err_train = list()\n",
    "err_test = list()\n",
    "from sklearn.grid_search import GridSearchCV\n",
    "nnb = list(range(1, 60))\n",
    "knn = KNeighborsClassifier()\n",
    "grid = GridSearchCV(knn, param_grid = {'n_neighbors': nnb}, cv=10)\n",
    "grid.fit(X_train, y_train)\n",
    "\n",
    "best_cv_err = 1 - grid.best_score_\n",
    "best_n_neighbors = grid.best_estimator_.n_neighbors\n",
    "print(best_cv_err, best_n_neighbors)\n",
    "err_cv = list(map(lambda x: 1 - x[1], grid.grid_scores_))\n",
    "for k in nnb:\n",
    "    knn = KNeighborsClassifier(n_neighbors = k)\n",
    "    knn.fit(X, y)\n",
    "    y_pred      = knn.predict(X)\n",
    "    y_test_pred = knn.predict(X_test)\n",
    "    err_train.append(np.mean(y != y_pred))\n",
    "    err_test.append(np.mean(y_test != y_test_pred))"
   ]
  },
  {
   "cell_type": "code",
   "execution_count": 381,
   "metadata": {
    "collapsed": false
   },
   "outputs": [
    {
     "data": {
      "text/plain": [
       "[<matplotlib.lines.Line2D at 0x17598ea7eb8>]"
      ]
     },
     "execution_count": 381,
     "metadata": {},
     "output_type": "execute_result"
    },
    {
     "data": {
      "image/png": "[encoded data removed]",
      "text/plain": [
       "<matplotlib.figure.Figure at 0x1758f901978>"
      ]
     },
     "metadata": {},
     "output_type": "display_data"
    }
   ],
   "source": [
    "plt.plot(nnb, err_train, 'r')\n",
    "plt.plot(nnb, err_test, 'b')\n",
    "plt.plot(nnb, err_cv, 'g')"
   ]
  },
  {
   "cell_type": "code",
   "execution_count": 382,
   "metadata": {
    "collapsed": false
   },
   "outputs": [
    {
     "name": "stdout",
     "output_type": "stream",
     "text": [
      "0.153209109731 0.135265700483\n"
     ]
    }
   ],
   "source": [
    "knn = KNeighborsClassifier(n_neighbors = best_n_neighbors).fit(X_train, y_train)\n",
    "\n",
    "err_train = np.mean(y_train != knn.predict(X_train))\n",
    "err_test  = np.mean(y_test  != knn.predict(X_test))\n",
    "\n",
    "print(err_train, err_test)"
   ]
  },
  {
   "cell_type": "markdown",
   "metadata": {
    "collapsed": true
   },
   "source": [
    "# Логистическая регрессия"
   ]
  },
  {
   "cell_type": "code",
   "execution_count": 383,
   "metadata": {
    "collapsed": false
   },
   "outputs": [
    {
     "data": {
      "text/plain": [
       "LogisticRegression(C=1.0, class_weight=None, dual=False, fit_intercept=True,\n",
       "          intercept_scaling=1, max_iter=400, multi_class='ovr', n_jobs=1,\n",
       "          penalty='l2', random_state=None, solver='liblinear', tol=0.0001,\n",
       "          verbose=0, warm_start=False)"
      ]
     },
     "execution_count": 383,
     "metadata": {},
     "output_type": "execute_result"
    }
   ],
   "source": [
    "from sklearn.linear_model import LogisticRegression\n",
    "logistic_model = LogisticRegression(max_iter=400)\n",
    "logistic_model.fit(X_train, y_train)"
   ]
  },
  {
   "cell_type": "code",
   "execution_count": 384,
   "metadata": {
    "collapsed": false
   },
   "outputs": [
    {
     "name": "stdout",
     "output_type": "stream",
     "text": [
      "0.126293995859 0.140096618357\n"
     ]
    }
   ],
   "source": [
    "y_train_predict = logistic_model.predict(X_train)\n",
    "y_test_predict = logistic_model.predict(X_test)\n",
    "\n",
    "err_train = np.mean(y_train != y_train_predict)\n",
    "err_test  = np.mean(y_test  != y_test_predict)\n",
    "\n",
    "print(err_train, err_test)"
   ]
  },
  {
   "cell_type": "markdown",
   "metadata": {
    "collapsed": true
   },
   "source": [
    "## Изменим параметры модели"
   ]
  },
  {
   "cell_type": "code",
   "execution_count": 385,
   "metadata": {
    "collapsed": false
   },
   "outputs": [
    {
     "data": {
      "text/plain": [
       "LogisticRegression(C=0.4, class_weight=None, dual=False, fit_intercept=True,\n",
       "          intercept_scaling=1, max_iter=400, multi_class='ovr', n_jobs=1,\n",
       "          penalty='l2', random_state=None, solver='liblinear', tol=0.0001,\n",
       "          verbose=0, warm_start=False)"
      ]
     },
     "execution_count": 385,
     "metadata": {},
     "output_type": "execute_result"
    }
   ],
   "source": [
    "logistic_model = LogisticRegression(max_iter=400, C=0.4)\n",
    "logistic_model.fit(X_train, y_train)"
   ]
  },
  {
   "cell_type": "code",
   "execution_count": 386,
   "metadata": {
    "collapsed": false
   },
   "outputs": [
    {
     "name": "stdout",
     "output_type": "stream",
     "text": [
      "0.126293995859 0.135265700483\n"
     ]
    }
   ],
   "source": [
    "y_train_predict = logistic_model.predict(X_train)\n",
    "y_test_predict = logistic_model.predict(X_test)\n",
    "\n",
    "err_train = np.mean(y_train != y_train_predict)\n",
    "err_test  = np.mean(y_test  != y_test_predict)\n",
    "\n",
    "print(err_train, err_test)"
   ]
  },
  {
   "cell_type": "code",
   "execution_count": 387,
   "metadata": {
    "collapsed": false
   },
   "outputs": [
    {
     "name": "stdout",
     "output_type": "stream",
     "text": [
      "0.138716356108 0.3\n"
     ]
    }
   ],
   "source": [
    "reg_coef = np.linspace(start=0.05, stop = 1.5, num = 30)\n",
    "grid = GridSearchCV(logistic_model, param_grid = {'C': reg_coef}, cv=10)\n",
    "grid.fit(X_train, y_train)\n",
    "err_train = list()\n",
    "err_test = list()\n",
    "best_cv_err = 1 - grid.best_score_\n",
    "best_C = grid.best_estimator_.C\n",
    "print(best_cv_err, best_C)\n",
    "err_cv = list(map(lambda x: 1 - x[1], grid.grid_scores_))\n",
    "for c in reg_coef:\n",
    "    logistic_model = LogisticRegression(C = c)\n",
    "    logistic_model.fit(X, y)\n",
    "    y_train_pred      = logistic_model.predict(X_train)\n",
    "    y_test_pred = logistic_model.predict(X_test)\n",
    "    err_train.append(np.mean(y_train != y_train_pred))\n",
    "    err_test.append(np.mean(y_test != y_test_pred))"
   ]
  },
  {
   "cell_type": "code",
   "execution_count": 388,
   "metadata": {
    "collapsed": false
   },
   "outputs": [
    {
     "data": {
      "text/plain": [
       "[<matplotlib.lines.Line2D at 0x17598ee7e10>]"
      ]
     },
     "execution_count": 388,
     "metadata": {},
     "output_type": "execute_result"
    },
    {
     "data": {
      "image/png": "[encoded data removed]",
      "text/plain": [
       "<matplotlib.figure.Figure at 0x17599566b38>"
      ]
     },
     "metadata": {},
     "output_type": "display_data"
    }
   ],
   "source": [
    "plt.plot(reg_coef, err_train, 'r')\n",
    "plt.plot(reg_coef, err_test, 'b')\n",
    "plt.plot(reg_coef, err_cv, 'g')"
   ]
  },
  {
   "cell_type": "code",
   "execution_count": 389,
   "metadata": {
    "collapsed": false
   },
   "outputs": [
    {
     "data": {
      "text/plain": [
       "LogisticRegression(C=0.29999999999999999, class_weight=None, dual=False,\n",
       "          fit_intercept=True, intercept_scaling=1, max_iter=400,\n",
       "          multi_class='ovr', n_jobs=1, penalty='l2', random_state=None,\n",
       "          solver='liblinear', tol=0.0001, verbose=0, warm_start=False)"
      ]
     },
     "execution_count": 389,
     "metadata": {},
     "output_type": "execute_result"
    }
   ],
   "source": [
    "logistic_model = LogisticRegression(max_iter=400, dual=False,C=best_C)\n",
    "logistic_model.fit(X_train, y_train)"
   ]
  },
  {
   "cell_type": "code",
   "execution_count": 390,
   "metadata": {
    "collapsed": false
   },
   "outputs": [
    {
     "name": "stdout",
     "output_type": "stream",
     "text": [
      "0.126293995859 0.135265700483\n"
     ]
    }
   ],
   "source": [
    "y_train_predict = logistic_model.predict(X_train)\n",
    "y_test_predict = logistic_model.predict(X_test)\n",
    "\n",
    "err_train = np.mean(y_train != y_train_predict)\n",
    "err_test  = np.mean(y_test  != y_test_predict)\n",
    "\n",
    "print(err_train, err_test)"
   ]
  },
  {
   "cell_type": "markdown",
   "metadata": {
    "collapsed": true
   },
   "source": [
    "# LDA"
   ]
  },
  {
   "cell_type": "code",
   "execution_count": 391,
   "metadata": {
    "collapsed": false
   },
   "outputs": [
    {
     "data": {
      "text/plain": [
       "LinearDiscriminantAnalysis(n_components=None, priors=None, shrinkage=None,\n",
       "              solver='svd', store_covariance=False, tol=0.0001)"
      ]
     },
     "execution_count": 391,
     "metadata": {},
     "output_type": "execute_result"
    }
   ],
   "source": [
    "from sklearn import discriminant_analysis\n",
    "lda_model = discriminant_analysis.LinearDiscriminantAnalysis()\n",
    "lda_model.fit(X_train, y_train)"
   ]
  },
  {
   "cell_type": "code",
   "execution_count": 392,
   "metadata": {
    "collapsed": false
   },
   "outputs": [
    {
     "data": {
      "text/html": [
       "<div>\n",
       "<table border=\"1\" class=\"dataframe\">\n",
       "  <thead>\n",
       "    <tr style=\"text-align: right;\">\n",
       "      <th></th>\n",
       "      <th>A2</th>\n",
       "      <th>A3</th>\n",
       "      <th>A7</th>\n",
       "      <th>A10</th>\n",
       "      <th>A14</th>\n",
       "      <th>A4_1</th>\n",
       "      <th>A4_2</th>\n",
       "      <th>A4_3</th>\n",
       "      <th>A5_1</th>\n",
       "      <th>A5_2</th>\n",
       "      <th>A5_3</th>\n",
       "      <th>A5_4</th>\n",
       "      <th>A5_5</th>\n",
       "      <th>A5_6</th>\n",
       "      <th>A5_7</th>\n",
       "      <th>A5_8</th>\n",
       "      <th>A5_9</th>\n",
       "      <th>A5_10</th>\n",
       "      <th>A5_11</th>\n",
       "      <th>A5_12</th>\n",
       "      <th>A5_13</th>\n",
       "      <th>A5_14</th>\n",
       "      <th>A6_1</th>\n",
       "      <th>A6_2</th>\n",
       "      <th>A6_3</th>\n",
       "      <th>A6_4</th>\n",
       "      <th>A6_5</th>\n",
       "      <th>A6_7</th>\n",
       "      <th>A6_8</th>\n",
       "      <th>A6_9</th>\n",
       "      <th>A8</th>\n",
       "      <th>A9</th>\n",
       "    </tr>\n",
       "  </thead>\n",
       "  <tbody>\n",
       "    <tr>\n",
       "      <th>A2</th>\n",
       "      <td>True</td>\n",
       "      <td>False</td>\n",
       "      <td>False</td>\n",
       "      <td>False</td>\n",
       "      <td>False</td>\n",
       "      <td>False</td>\n",
       "      <td>False</td>\n",
       "      <td>False</td>\n",
       "      <td>False</td>\n",
       "      <td>False</td>\n",
       "      <td>False</td>\n",
       "      <td>False</td>\n",
       "      <td>False</td>\n",
       "      <td>False</td>\n",
       "      <td>False</td>\n",
       "      <td>False</td>\n",
       "      <td>False</td>\n",
       "      <td>False</td>\n",
       "      <td>False</td>\n",
       "      <td>False</td>\n",
       "      <td>False</td>\n",
       "      <td>False</td>\n",
       "      <td>False</td>\n",
       "      <td>False</td>\n",
       "      <td>False</td>\n",
       "      <td>False</td>\n",
       "      <td>False</td>\n",
       "      <td>False</td>\n",
       "      <td>False</td>\n",
       "      <td>False</td>\n",
       "      <td>False</td>\n",
       "      <td>False</td>\n",
       "    </tr>\n",
       "    <tr>\n",
       "      <th>A3</th>\n",
       "      <td>False</td>\n",
       "      <td>True</td>\n",
       "      <td>False</td>\n",
       "      <td>False</td>\n",
       "      <td>False</td>\n",
       "      <td>False</td>\n",
       "      <td>False</td>\n",
       "      <td>False</td>\n",
       "      <td>False</td>\n",
       "      <td>False</td>\n",
       "      <td>False</td>\n",
       "      <td>False</td>\n",
       "      <td>False</td>\n",
       "      <td>False</td>\n",
       "      <td>False</td>\n",
       "      <td>False</td>\n",
       "      <td>False</td>\n",
       "      <td>False</td>\n",
       "      <td>False</td>\n",
       "      <td>False</td>\n",
       "      <td>False</td>\n",
       "      <td>False</td>\n",
       "      <td>False</td>\n",
       "      <td>False</td>\n",
       "      <td>False</td>\n",
       "      <td>False</td>\n",
       "      <td>False</td>\n",
       "      <td>False</td>\n",
       "      <td>False</td>\n",
       "      <td>False</td>\n",
       "      <td>False</td>\n",
       "      <td>False</td>\n",
       "    </tr>\n",
       "    <tr>\n",
       "      <th>A7</th>\n",
       "      <td>False</td>\n",
       "      <td>False</td>\n",
       "      <td>True</td>\n",
       "      <td>False</td>\n",
       "      <td>False</td>\n",
       "      <td>False</td>\n",
       "      <td>False</td>\n",
       "      <td>False</td>\n",
       "      <td>False</td>\n",
       "      <td>False</td>\n",
       "      <td>False</td>\n",
       "      <td>False</td>\n",
       "      <td>False</td>\n",
       "      <td>False</td>\n",
       "      <td>False</td>\n",
       "      <td>False</td>\n",
       "      <td>False</td>\n",
       "      <td>False</td>\n",
       "      <td>False</td>\n",
       "      <td>False</td>\n",
       "      <td>False</td>\n",
       "      <td>False</td>\n",
       "      <td>False</td>\n",
       "      <td>False</td>\n",
       "      <td>False</td>\n",
       "      <td>False</td>\n",
       "      <td>False</td>\n",
       "      <td>False</td>\n",
       "      <td>False</td>\n",
       "      <td>False</td>\n",
       "      <td>False</td>\n",
       "      <td>False</td>\n",
       "    </tr>\n",
       "    <tr>\n",
       "      <th>A10</th>\n",
       "      <td>False</td>\n",
       "      <td>False</td>\n",
       "      <td>False</td>\n",
       "      <td>True</td>\n",
       "      <td>False</td>\n",
       "      <td>False</td>\n",
       "      <td>False</td>\n",
       "      <td>False</td>\n",
       "      <td>False</td>\n",
       "      <td>False</td>\n",
       "      <td>False</td>\n",
       "      <td>False</td>\n",
       "      <td>False</td>\n",
       "      <td>False</td>\n",
       "      <td>False</td>\n",
       "      <td>False</td>\n",
       "      <td>False</td>\n",
       "      <td>False</td>\n",
       "      <td>False</td>\n",
       "      <td>False</td>\n",
       "      <td>False</td>\n",
       "      <td>False</td>\n",
       "      <td>False</td>\n",
       "      <td>False</td>\n",
       "      <td>False</td>\n",
       "      <td>False</td>\n",
       "      <td>False</td>\n",
       "      <td>False</td>\n",
       "      <td>False</td>\n",
       "      <td>False</td>\n",
       "      <td>False</td>\n",
       "      <td>False</td>\n",
       "    </tr>\n",
       "    <tr>\n",
       "      <th>A14</th>\n",
       "      <td>False</td>\n",
       "      <td>False</td>\n",
       "      <td>False</td>\n",
       "      <td>False</td>\n",
       "      <td>True</td>\n",
       "      <td>False</td>\n",
       "      <td>False</td>\n",
       "      <td>False</td>\n",
       "      <td>False</td>\n",
       "      <td>False</td>\n",
       "      <td>False</td>\n",
       "      <td>False</td>\n",
       "      <td>False</td>\n",
       "      <td>False</td>\n",
       "      <td>False</td>\n",
       "      <td>False</td>\n",
       "      <td>False</td>\n",
       "      <td>False</td>\n",
       "      <td>False</td>\n",
       "      <td>False</td>\n",
       "      <td>False</td>\n",
       "      <td>False</td>\n",
       "      <td>False</td>\n",
       "      <td>False</td>\n",
       "      <td>False</td>\n",
       "      <td>False</td>\n",
       "      <td>False</td>\n",
       "      <td>False</td>\n",
       "      <td>False</td>\n",
       "      <td>False</td>\n",
       "      <td>False</td>\n",
       "      <td>False</td>\n",
       "    </tr>\n",
       "    <tr>\n",
       "      <th>A4_1</th>\n",
       "      <td>False</td>\n",
       "      <td>False</td>\n",
       "      <td>False</td>\n",
       "      <td>False</td>\n",
       "      <td>False</td>\n",
       "      <td>True</td>\n",
       "      <td>False</td>\n",
       "      <td>False</td>\n",
       "      <td>False</td>\n",
       "      <td>False</td>\n",
       "      <td>False</td>\n",
       "      <td>False</td>\n",
       "      <td>False</td>\n",
       "      <td>False</td>\n",
       "      <td>False</td>\n",
       "      <td>False</td>\n",
       "      <td>False</td>\n",
       "      <td>False</td>\n",
       "      <td>False</td>\n",
       "      <td>False</td>\n",
       "      <td>False</td>\n",
       "      <td>False</td>\n",
       "      <td>False</td>\n",
       "      <td>False</td>\n",
       "      <td>False</td>\n",
       "      <td>False</td>\n",
       "      <td>False</td>\n",
       "      <td>False</td>\n",
       "      <td>False</td>\n",
       "      <td>False</td>\n",
       "      <td>False</td>\n",
       "      <td>False</td>\n",
       "    </tr>\n",
       "    <tr>\n",
       "      <th>A4_2</th>\n",
       "      <td>False</td>\n",
       "      <td>False</td>\n",
       "      <td>False</td>\n",
       "      <td>False</td>\n",
       "      <td>False</td>\n",
       "      <td>False</td>\n",
       "      <td>True</td>\n",
       "      <td>False</td>\n",
       "      <td>False</td>\n",
       "      <td>False</td>\n",
       "      <td>False</td>\n",
       "      <td>False</td>\n",
       "      <td>False</td>\n",
       "      <td>False</td>\n",
       "      <td>False</td>\n",
       "      <td>False</td>\n",
       "      <td>False</td>\n",
       "      <td>False</td>\n",
       "      <td>False</td>\n",
       "      <td>False</td>\n",
       "      <td>False</td>\n",
       "      <td>False</td>\n",
       "      <td>False</td>\n",
       "      <td>False</td>\n",
       "      <td>False</td>\n",
       "      <td>False</td>\n",
       "      <td>False</td>\n",
       "      <td>False</td>\n",
       "      <td>False</td>\n",
       "      <td>False</td>\n",
       "      <td>False</td>\n",
       "      <td>False</td>\n",
       "    </tr>\n",
       "    <tr>\n",
       "      <th>A4_3</th>\n",
       "      <td>False</td>\n",
       "      <td>False</td>\n",
       "      <td>False</td>\n",
       "      <td>False</td>\n",
       "      <td>False</td>\n",
       "      <td>False</td>\n",
       "      <td>False</td>\n",
       "      <td>True</td>\n",
       "      <td>False</td>\n",
       "      <td>False</td>\n",
       "      <td>False</td>\n",
       "      <td>False</td>\n",
       "      <td>False</td>\n",
       "      <td>False</td>\n",
       "      <td>False</td>\n",
       "      <td>False</td>\n",
       "      <td>False</td>\n",
       "      <td>False</td>\n",
       "      <td>False</td>\n",
       "      <td>False</td>\n",
       "      <td>False</td>\n",
       "      <td>False</td>\n",
       "      <td>False</td>\n",
       "      <td>False</td>\n",
       "      <td>False</td>\n",
       "      <td>False</td>\n",
       "      <td>False</td>\n",
       "      <td>False</td>\n",
       "      <td>False</td>\n",
       "      <td>False</td>\n",
       "      <td>False</td>\n",
       "      <td>False</td>\n",
       "    </tr>\n",
       "    <tr>\n",
       "      <th>A5_1</th>\n",
       "      <td>False</td>\n",
       "      <td>False</td>\n",
       "      <td>False</td>\n",
       "      <td>False</td>\n",
       "      <td>False</td>\n",
       "      <td>False</td>\n",
       "      <td>False</td>\n",
       "      <td>False</td>\n",
       "      <td>True</td>\n",
       "      <td>False</td>\n",
       "      <td>False</td>\n",
       "      <td>False</td>\n",
       "      <td>False</td>\n",
       "      <td>False</td>\n",
       "      <td>False</td>\n",
       "      <td>False</td>\n",
       "      <td>False</td>\n",
       "      <td>False</td>\n",
       "      <td>False</td>\n",
       "      <td>False</td>\n",
       "      <td>False</td>\n",
       "      <td>False</td>\n",
       "      <td>True</td>\n",
       "      <td>False</td>\n",
       "      <td>False</td>\n",
       "      <td>False</td>\n",
       "      <td>False</td>\n",
       "      <td>False</td>\n",
       "      <td>False</td>\n",
       "      <td>False</td>\n",
       "      <td>False</td>\n",
       "      <td>False</td>\n",
       "    </tr>\n",
       "    <tr>\n",
       "      <th>A5_2</th>\n",
       "      <td>False</td>\n",
       "      <td>False</td>\n",
       "      <td>False</td>\n",
       "      <td>False</td>\n",
       "      <td>False</td>\n",
       "      <td>False</td>\n",
       "      <td>False</td>\n",
       "      <td>False</td>\n",
       "      <td>False</td>\n",
       "      <td>True</td>\n",
       "      <td>False</td>\n",
       "      <td>False</td>\n",
       "      <td>False</td>\n",
       "      <td>False</td>\n",
       "      <td>False</td>\n",
       "      <td>False</td>\n",
       "      <td>False</td>\n",
       "      <td>False</td>\n",
       "      <td>False</td>\n",
       "      <td>False</td>\n",
       "      <td>False</td>\n",
       "      <td>False</td>\n",
       "      <td>False</td>\n",
       "      <td>False</td>\n",
       "      <td>False</td>\n",
       "      <td>False</td>\n",
       "      <td>False</td>\n",
       "      <td>False</td>\n",
       "      <td>False</td>\n",
       "      <td>False</td>\n",
       "      <td>False</td>\n",
       "      <td>False</td>\n",
       "    </tr>\n",
       "    <tr>\n",
       "      <th>A5_3</th>\n",
       "      <td>False</td>\n",
       "      <td>False</td>\n",
       "      <td>False</td>\n",
       "      <td>False</td>\n",
       "      <td>False</td>\n",
       "      <td>False</td>\n",
       "      <td>False</td>\n",
       "      <td>False</td>\n",
       "      <td>False</td>\n",
       "      <td>False</td>\n",
       "      <td>True</td>\n",
       "      <td>False</td>\n",
       "      <td>False</td>\n",
       "      <td>False</td>\n",
       "      <td>False</td>\n",
       "      <td>False</td>\n",
       "      <td>False</td>\n",
       "      <td>False</td>\n",
       "      <td>False</td>\n",
       "      <td>False</td>\n",
       "      <td>False</td>\n",
       "      <td>False</td>\n",
       "      <td>False</td>\n",
       "      <td>False</td>\n",
       "      <td>False</td>\n",
       "      <td>False</td>\n",
       "      <td>False</td>\n",
       "      <td>False</td>\n",
       "      <td>False</td>\n",
       "      <td>False</td>\n",
       "      <td>False</td>\n",
       "      <td>False</td>\n",
       "    </tr>\n",
       "    <tr>\n",
       "      <th>A5_4</th>\n",
       "      <td>False</td>\n",
       "      <td>False</td>\n",
       "      <td>False</td>\n",
       "      <td>False</td>\n",
       "      <td>False</td>\n",
       "      <td>False</td>\n",
       "      <td>False</td>\n",
       "      <td>False</td>\n",
       "      <td>False</td>\n",
       "      <td>False</td>\n",
       "      <td>False</td>\n",
       "      <td>True</td>\n",
       "      <td>False</td>\n",
       "      <td>False</td>\n",
       "      <td>False</td>\n",
       "      <td>False</td>\n",
       "      <td>False</td>\n",
       "      <td>False</td>\n",
       "      <td>False</td>\n",
       "      <td>False</td>\n",
       "      <td>False</td>\n",
       "      <td>False</td>\n",
       "      <td>False</td>\n",
       "      <td>False</td>\n",
       "      <td>False</td>\n",
       "      <td>False</td>\n",
       "      <td>False</td>\n",
       "      <td>False</td>\n",
       "      <td>False</td>\n",
       "      <td>False</td>\n",
       "      <td>False</td>\n",
       "      <td>False</td>\n",
       "    </tr>\n",
       "    <tr>\n",
       "      <th>A5_5</th>\n",
       "      <td>False</td>\n",
       "      <td>False</td>\n",
       "      <td>False</td>\n",
       "      <td>False</td>\n",
       "      <td>False</td>\n",
       "      <td>False</td>\n",
       "      <td>False</td>\n",
       "      <td>False</td>\n",
       "      <td>False</td>\n",
       "      <td>False</td>\n",
       "      <td>False</td>\n",
       "      <td>False</td>\n",
       "      <td>True</td>\n",
       "      <td>False</td>\n",
       "      <td>False</td>\n",
       "      <td>False</td>\n",
       "      <td>False</td>\n",
       "      <td>False</td>\n",
       "      <td>False</td>\n",
       "      <td>False</td>\n",
       "      <td>False</td>\n",
       "      <td>False</td>\n",
       "      <td>False</td>\n",
       "      <td>False</td>\n",
       "      <td>False</td>\n",
       "      <td>False</td>\n",
       "      <td>False</td>\n",
       "      <td>False</td>\n",
       "      <td>False</td>\n",
       "      <td>False</td>\n",
       "      <td>False</td>\n",
       "      <td>False</td>\n",
       "    </tr>\n",
       "    <tr>\n",
       "      <th>A5_6</th>\n",
       "      <td>False</td>\n",
       "      <td>False</td>\n",
       "      <td>False</td>\n",
       "      <td>False</td>\n",
       "      <td>False</td>\n",
       "      <td>False</td>\n",
       "      <td>False</td>\n",
       "      <td>False</td>\n",
       "      <td>False</td>\n",
       "      <td>False</td>\n",
       "      <td>False</td>\n",
       "      <td>False</td>\n",
       "      <td>False</td>\n",
       "      <td>True</td>\n",
       "      <td>False</td>\n",
       "      <td>False</td>\n",
       "      <td>False</td>\n",
       "      <td>False</td>\n",
       "      <td>False</td>\n",
       "      <td>False</td>\n",
       "      <td>False</td>\n",
       "      <td>False</td>\n",
       "      <td>False</td>\n",
       "      <td>False</td>\n",
       "      <td>False</td>\n",
       "      <td>False</td>\n",
       "      <td>False</td>\n",
       "      <td>False</td>\n",
       "      <td>False</td>\n",
       "      <td>False</td>\n",
       "      <td>False</td>\n",
       "      <td>False</td>\n",
       "    </tr>\n",
       "    <tr>\n",
       "      <th>A5_7</th>\n",
       "      <td>False</td>\n",
       "      <td>False</td>\n",
       "      <td>False</td>\n",
       "      <td>False</td>\n",
       "      <td>False</td>\n",
       "      <td>False</td>\n",
       "      <td>False</td>\n",
       "      <td>False</td>\n",
       "      <td>False</td>\n",
       "      <td>False</td>\n",
       "      <td>False</td>\n",
       "      <td>False</td>\n",
       "      <td>False</td>\n",
       "      <td>False</td>\n",
       "      <td>True</td>\n",
       "      <td>False</td>\n",
       "      <td>False</td>\n",
       "      <td>False</td>\n",
       "      <td>False</td>\n",
       "      <td>False</td>\n",
       "      <td>False</td>\n",
       "      <td>False</td>\n",
       "      <td>False</td>\n",
       "      <td>False</td>\n",
       "      <td>False</td>\n",
       "      <td>False</td>\n",
       "      <td>False</td>\n",
       "      <td>False</td>\n",
       "      <td>False</td>\n",
       "      <td>False</td>\n",
       "      <td>False</td>\n",
       "      <td>False</td>\n",
       "    </tr>\n",
       "    <tr>\n",
       "      <th>A5_8</th>\n",
       "      <td>False</td>\n",
       "      <td>False</td>\n",
       "      <td>False</td>\n",
       "      <td>False</td>\n",
       "      <td>False</td>\n",
       "      <td>False</td>\n",
       "      <td>False</td>\n",
       "      <td>False</td>\n",
       "      <td>False</td>\n",
       "      <td>False</td>\n",
       "      <td>False</td>\n",
       "      <td>False</td>\n",
       "      <td>False</td>\n",
       "      <td>False</td>\n",
       "      <td>False</td>\n",
       "      <td>True</td>\n",
       "      <td>False</td>\n",
       "      <td>False</td>\n",
       "      <td>False</td>\n",
       "      <td>False</td>\n",
       "      <td>False</td>\n",
       "      <td>False</td>\n",
       "      <td>False</td>\n",
       "      <td>False</td>\n",
       "      <td>False</td>\n",
       "      <td>False</td>\n",
       "      <td>False</td>\n",
       "      <td>False</td>\n",
       "      <td>False</td>\n",
       "      <td>False</td>\n",
       "      <td>False</td>\n",
       "      <td>False</td>\n",
       "    </tr>\n",
       "    <tr>\n",
       "      <th>A5_9</th>\n",
       "      <td>False</td>\n",
       "      <td>False</td>\n",
       "      <td>False</td>\n",
       "      <td>False</td>\n",
       "      <td>False</td>\n",
       "      <td>False</td>\n",
       "      <td>False</td>\n",
       "      <td>False</td>\n",
       "      <td>False</td>\n",
       "      <td>False</td>\n",
       "      <td>False</td>\n",
       "      <td>False</td>\n",
       "      <td>False</td>\n",
       "      <td>False</td>\n",
       "      <td>False</td>\n",
       "      <td>False</td>\n",
       "      <td>True</td>\n",
       "      <td>False</td>\n",
       "      <td>False</td>\n",
       "      <td>False</td>\n",
       "      <td>False</td>\n",
       "      <td>False</td>\n",
       "      <td>False</td>\n",
       "      <td>False</td>\n",
       "      <td>False</td>\n",
       "      <td>False</td>\n",
       "      <td>False</td>\n",
       "      <td>False</td>\n",
       "      <td>False</td>\n",
       "      <td>False</td>\n",
       "      <td>False</td>\n",
       "      <td>False</td>\n",
       "    </tr>\n",
       "    <tr>\n",
       "      <th>A5_10</th>\n",
       "      <td>False</td>\n",
       "      <td>False</td>\n",
       "      <td>False</td>\n",
       "      <td>False</td>\n",
       "      <td>False</td>\n",
       "      <td>False</td>\n",
       "      <td>False</td>\n",
       "      <td>False</td>\n",
       "      <td>False</td>\n",
       "      <td>False</td>\n",
       "      <td>False</td>\n",
       "      <td>False</td>\n",
       "      <td>False</td>\n",
       "      <td>False</td>\n",
       "      <td>False</td>\n",
       "      <td>False</td>\n",
       "      <td>False</td>\n",
       "      <td>True</td>\n",
       "      <td>False</td>\n",
       "      <td>False</td>\n",
       "      <td>False</td>\n",
       "      <td>False</td>\n",
       "      <td>False</td>\n",
       "      <td>False</td>\n",
       "      <td>False</td>\n",
       "      <td>False</td>\n",
       "      <td>False</td>\n",
       "      <td>False</td>\n",
       "      <td>False</td>\n",
       "      <td>False</td>\n",
       "      <td>False</td>\n",
       "      <td>False</td>\n",
       "    </tr>\n",
       "    <tr>\n",
       "      <th>A5_11</th>\n",
       "      <td>False</td>\n",
       "      <td>False</td>\n",
       "      <td>False</td>\n",
       "      <td>False</td>\n",
       "      <td>False</td>\n",
       "      <td>False</td>\n",
       "      <td>False</td>\n",
       "      <td>False</td>\n",
       "      <td>False</td>\n",
       "      <td>False</td>\n",
       "      <td>False</td>\n",
       "      <td>False</td>\n",
       "      <td>False</td>\n",
       "      <td>False</td>\n",
       "      <td>False</td>\n",
       "      <td>False</td>\n",
       "      <td>False</td>\n",
       "      <td>False</td>\n",
       "      <td>True</td>\n",
       "      <td>False</td>\n",
       "      <td>False</td>\n",
       "      <td>False</td>\n",
       "      <td>False</td>\n",
       "      <td>False</td>\n",
       "      <td>False</td>\n",
       "      <td>False</td>\n",
       "      <td>False</td>\n",
       "      <td>False</td>\n",
       "      <td>False</td>\n",
       "      <td>False</td>\n",
       "      <td>False</td>\n",
       "      <td>False</td>\n",
       "    </tr>\n",
       "    <tr>\n",
       "      <th>A5_12</th>\n",
       "      <td>False</td>\n",
       "      <td>False</td>\n",
       "      <td>False</td>\n",
       "      <td>False</td>\n",
       "      <td>False</td>\n",
       "      <td>False</td>\n",
       "      <td>False</td>\n",
       "      <td>False</td>\n",
       "      <td>False</td>\n",
       "      <td>False</td>\n",
       "      <td>False</td>\n",
       "      <td>False</td>\n",
       "      <td>False</td>\n",
       "      <td>False</td>\n",
       "      <td>False</td>\n",
       "      <td>False</td>\n",
       "      <td>False</td>\n",
       "      <td>False</td>\n",
       "      <td>False</td>\n",
       "      <td>True</td>\n",
       "      <td>False</td>\n",
       "      <td>False</td>\n",
       "      <td>False</td>\n",
       "      <td>False</td>\n",
       "      <td>False</td>\n",
       "      <td>False</td>\n",
       "      <td>False</td>\n",
       "      <td>False</td>\n",
       "      <td>False</td>\n",
       "      <td>False</td>\n",
       "      <td>False</td>\n",
       "      <td>False</td>\n",
       "    </tr>\n",
       "    <tr>\n",
       "      <th>A5_13</th>\n",
       "      <td>False</td>\n",
       "      <td>False</td>\n",
       "      <td>False</td>\n",
       "      <td>False</td>\n",
       "      <td>False</td>\n",
       "      <td>False</td>\n",
       "      <td>False</td>\n",
       "      <td>False</td>\n",
       "      <td>False</td>\n",
       "      <td>False</td>\n",
       "      <td>False</td>\n",
       "      <td>False</td>\n",
       "      <td>False</td>\n",
       "      <td>False</td>\n",
       "      <td>False</td>\n",
       "      <td>False</td>\n",
       "      <td>False</td>\n",
       "      <td>False</td>\n",
       "      <td>False</td>\n",
       "      <td>False</td>\n",
       "      <td>True</td>\n",
       "      <td>False</td>\n",
       "      <td>False</td>\n",
       "      <td>False</td>\n",
       "      <td>False</td>\n",
       "      <td>False</td>\n",
       "      <td>False</td>\n",
       "      <td>False</td>\n",
       "      <td>False</td>\n",
       "      <td>False</td>\n",
       "      <td>False</td>\n",
       "      <td>False</td>\n",
       "    </tr>\n",
       "    <tr>\n",
       "      <th>A5_14</th>\n",
       "      <td>False</td>\n",
       "      <td>False</td>\n",
       "      <td>False</td>\n",
       "      <td>False</td>\n",
       "      <td>False</td>\n",
       "      <td>False</td>\n",
       "      <td>False</td>\n",
       "      <td>False</td>\n",
       "      <td>False</td>\n",
       "      <td>False</td>\n",
       "      <td>False</td>\n",
       "      <td>False</td>\n",
       "      <td>False</td>\n",
       "      <td>False</td>\n",
       "      <td>False</td>\n",
       "      <td>False</td>\n",
       "      <td>False</td>\n",
       "      <td>False</td>\n",
       "      <td>False</td>\n",
       "      <td>False</td>\n",
       "      <td>False</td>\n",
       "      <td>True</td>\n",
       "      <td>False</td>\n",
       "      <td>False</td>\n",
       "      <td>False</td>\n",
       "      <td>False</td>\n",
       "      <td>False</td>\n",
       "      <td>False</td>\n",
       "      <td>False</td>\n",
       "      <td>False</td>\n",
       "      <td>False</td>\n",
       "      <td>False</td>\n",
       "    </tr>\n",
       "    <tr>\n",
       "      <th>A6_1</th>\n",
       "      <td>False</td>\n",
       "      <td>False</td>\n",
       "      <td>False</td>\n",
       "      <td>False</td>\n",
       "      <td>False</td>\n",
       "      <td>False</td>\n",
       "      <td>False</td>\n",
       "      <td>False</td>\n",
       "      <td>True</td>\n",
       "      <td>False</td>\n",
       "      <td>False</td>\n",
       "      <td>False</td>\n",
       "      <td>False</td>\n",
       "      <td>False</td>\n",
       "      <td>False</td>\n",
       "      <td>False</td>\n",
       "      <td>False</td>\n",
       "      <td>False</td>\n",
       "      <td>False</td>\n",
       "      <td>False</td>\n",
       "      <td>False</td>\n",
       "      <td>False</td>\n",
       "      <td>True</td>\n",
       "      <td>False</td>\n",
       "      <td>False</td>\n",
       "      <td>False</td>\n",
       "      <td>False</td>\n",
       "      <td>False</td>\n",
       "      <td>False</td>\n",
       "      <td>False</td>\n",
       "      <td>False</td>\n",
       "      <td>False</td>\n",
       "    </tr>\n",
       "    <tr>\n",
       "      <th>A6_2</th>\n",
       "      <td>False</td>\n",
       "      <td>False</td>\n",
       "      <td>False</td>\n",
       "      <td>False</td>\n",
       "      <td>False</td>\n",
       "      <td>False</td>\n",
       "      <td>False</td>\n",
       "      <td>False</td>\n",
       "      <td>False</td>\n",
       "      <td>False</td>\n",
       "      <td>False</td>\n",
       "      <td>False</td>\n",
       "      <td>False</td>\n",
       "      <td>False</td>\n",
       "      <td>False</td>\n",
       "      <td>False</td>\n",
       "      <td>False</td>\n",
       "      <td>False</td>\n",
       "      <td>False</td>\n",
       "      <td>False</td>\n",
       "      <td>False</td>\n",
       "      <td>False</td>\n",
       "      <td>False</td>\n",
       "      <td>True</td>\n",
       "      <td>False</td>\n",
       "      <td>False</td>\n",
       "      <td>False</td>\n",
       "      <td>False</td>\n",
       "      <td>False</td>\n",
       "      <td>False</td>\n",
       "      <td>False</td>\n",
       "      <td>False</td>\n",
       "    </tr>\n",
       "    <tr>\n",
       "      <th>A6_3</th>\n",
       "      <td>False</td>\n",
       "      <td>False</td>\n",
       "      <td>False</td>\n",
       "      <td>False</td>\n",
       "      <td>False</td>\n",
       "      <td>False</td>\n",
       "      <td>False</td>\n",
       "      <td>False</td>\n",
       "      <td>False</td>\n",
       "      <td>False</td>\n",
       "      <td>False</td>\n",
       "      <td>False</td>\n",
       "      <td>False</td>\n",
       "      <td>False</td>\n",
       "      <td>False</td>\n",
       "      <td>False</td>\n",
       "      <td>False</td>\n",
       "      <td>False</td>\n",
       "      <td>False</td>\n",
       "      <td>False</td>\n",
       "      <td>False</td>\n",
       "      <td>False</td>\n",
       "      <td>False</td>\n",
       "      <td>False</td>\n",
       "      <td>True</td>\n",
       "      <td>False</td>\n",
       "      <td>False</td>\n",
       "      <td>False</td>\n",
       "      <td>False</td>\n",
       "      <td>False</td>\n",
       "      <td>False</td>\n",
       "      <td>False</td>\n",
       "    </tr>\n",
       "    <tr>\n",
       "      <th>A6_4</th>\n",
       "      <td>False</td>\n",
       "      <td>False</td>\n",
       "      <td>False</td>\n",
       "      <td>False</td>\n",
       "      <td>False</td>\n",
       "      <td>False</td>\n",
       "      <td>False</td>\n",
       "      <td>False</td>\n",
       "      <td>False</td>\n",
       "      <td>False</td>\n",
       "      <td>False</td>\n",
       "      <td>False</td>\n",
       "      <td>False</td>\n",
       "      <td>False</td>\n",
       "      <td>False</td>\n",
       "      <td>False</td>\n",
       "      <td>False</td>\n",
       "      <td>False</td>\n",
       "      <td>False</td>\n",
       "      <td>False</td>\n",
       "      <td>False</td>\n",
       "      <td>False</td>\n",
       "      <td>False</td>\n",
       "      <td>False</td>\n",
       "      <td>False</td>\n",
       "      <td>True</td>\n",
       "      <td>False</td>\n",
       "      <td>False</td>\n",
       "      <td>False</td>\n",
       "      <td>False</td>\n",
       "      <td>False</td>\n",
       "      <td>False</td>\n",
       "    </tr>\n",
       "    <tr>\n",
       "      <th>A6_5</th>\n",
       "      <td>False</td>\n",
       "      <td>False</td>\n",
       "      <td>False</td>\n",
       "      <td>False</td>\n",
       "      <td>False</td>\n",
       "      <td>False</td>\n",
       "      <td>False</td>\n",
       "      <td>False</td>\n",
       "      <td>False</td>\n",
       "      <td>False</td>\n",
       "      <td>False</td>\n",
       "      <td>False</td>\n",
       "      <td>False</td>\n",
       "      <td>False</td>\n",
       "      <td>False</td>\n",
       "      <td>False</td>\n",
       "      <td>False</td>\n",
       "      <td>False</td>\n",
       "      <td>False</td>\n",
       "      <td>False</td>\n",
       "      <td>False</td>\n",
       "      <td>False</td>\n",
       "      <td>False</td>\n",
       "      <td>False</td>\n",
       "      <td>False</td>\n",
       "      <td>False</td>\n",
       "      <td>True</td>\n",
       "      <td>False</td>\n",
       "      <td>False</td>\n",
       "      <td>False</td>\n",
       "      <td>False</td>\n",
       "      <td>False</td>\n",
       "    </tr>\n",
       "    <tr>\n",
       "      <th>A6_7</th>\n",
       "      <td>False</td>\n",
       "      <td>False</td>\n",
       "      <td>False</td>\n",
       "      <td>False</td>\n",
       "      <td>False</td>\n",
       "      <td>False</td>\n",
       "      <td>False</td>\n",
       "      <td>False</td>\n",
       "      <td>False</td>\n",
       "      <td>False</td>\n",
       "      <td>False</td>\n",
       "      <td>False</td>\n",
       "      <td>False</td>\n",
       "      <td>False</td>\n",
       "      <td>False</td>\n",
       "      <td>False</td>\n",
       "      <td>False</td>\n",
       "      <td>False</td>\n",
       "      <td>False</td>\n",
       "      <td>False</td>\n",
       "      <td>False</td>\n",
       "      <td>False</td>\n",
       "      <td>False</td>\n",
       "      <td>False</td>\n",
       "      <td>False</td>\n",
       "      <td>False</td>\n",
       "      <td>False</td>\n",
       "      <td>True</td>\n",
       "      <td>False</td>\n",
       "      <td>False</td>\n",
       "      <td>False</td>\n",
       "      <td>False</td>\n",
       "    </tr>\n",
       "    <tr>\n",
       "      <th>A6_8</th>\n",
       "      <td>False</td>\n",
       "      <td>False</td>\n",
       "      <td>False</td>\n",
       "      <td>False</td>\n",
       "      <td>False</td>\n",
       "      <td>False</td>\n",
       "      <td>False</td>\n",
       "      <td>False</td>\n",
       "      <td>False</td>\n",
       "      <td>False</td>\n",
       "      <td>False</td>\n",
       "      <td>False</td>\n",
       "      <td>False</td>\n",
       "      <td>False</td>\n",
       "      <td>False</td>\n",
       "      <td>False</td>\n",
       "      <td>False</td>\n",
       "      <td>False</td>\n",
       "      <td>False</td>\n",
       "      <td>False</td>\n",
       "      <td>False</td>\n",
       "      <td>False</td>\n",
       "      <td>False</td>\n",
       "      <td>False</td>\n",
       "      <td>False</td>\n",
       "      <td>False</td>\n",
       "      <td>False</td>\n",
       "      <td>False</td>\n",
       "      <td>True</td>\n",
       "      <td>False</td>\n",
       "      <td>False</td>\n",
       "      <td>False</td>\n",
       "    </tr>\n",
       "    <tr>\n",
       "      <th>A6_9</th>\n",
       "      <td>False</td>\n",
       "      <td>False</td>\n",
       "      <td>False</td>\n",
       "      <td>False</td>\n",
       "      <td>False</td>\n",
       "      <td>False</td>\n",
       "      <td>False</td>\n",
       "      <td>False</td>\n",
       "      <td>False</td>\n",
       "      <td>False</td>\n",
       "      <td>False</td>\n",
       "      <td>False</td>\n",
       "      <td>False</td>\n",
       "      <td>False</td>\n",
       "      <td>False</td>\n",
       "      <td>False</td>\n",
       "      <td>False</td>\n",
       "      <td>False</td>\n",
       "      <td>False</td>\n",
       "      <td>False</td>\n",
       "      <td>False</td>\n",
       "      <td>False</td>\n",
       "      <td>False</td>\n",
       "      <td>False</td>\n",
       "      <td>False</td>\n",
       "      <td>False</td>\n",
       "      <td>False</td>\n",
       "      <td>False</td>\n",
       "      <td>False</td>\n",
       "      <td>True</td>\n",
       "      <td>False</td>\n",
       "      <td>False</td>\n",
       "    </tr>\n",
       "    <tr>\n",
       "      <th>A8</th>\n",
       "      <td>False</td>\n",
       "      <td>False</td>\n",
       "      <td>False</td>\n",
       "      <td>False</td>\n",
       "      <td>False</td>\n",
       "      <td>False</td>\n",
       "      <td>False</td>\n",
       "      <td>False</td>\n",
       "      <td>False</td>\n",
       "      <td>False</td>\n",
       "      <td>False</td>\n",
       "      <td>False</td>\n",
       "      <td>False</td>\n",
       "      <td>False</td>\n",
       "      <td>False</td>\n",
       "      <td>False</td>\n",
       "      <td>False</td>\n",
       "      <td>False</td>\n",
       "      <td>False</td>\n",
       "      <td>False</td>\n",
       "      <td>False</td>\n",
       "      <td>False</td>\n",
       "      <td>False</td>\n",
       "      <td>False</td>\n",
       "      <td>False</td>\n",
       "      <td>False</td>\n",
       "      <td>False</td>\n",
       "      <td>False</td>\n",
       "      <td>False</td>\n",
       "      <td>False</td>\n",
       "      <td>True</td>\n",
       "      <td>False</td>\n",
       "    </tr>\n",
       "    <tr>\n",
       "      <th>A9</th>\n",
       "      <td>False</td>\n",
       "      <td>False</td>\n",
       "      <td>False</td>\n",
       "      <td>False</td>\n",
       "      <td>False</td>\n",
       "      <td>False</td>\n",
       "      <td>False</td>\n",
       "      <td>False</td>\n",
       "      <td>False</td>\n",
       "      <td>False</td>\n",
       "      <td>False</td>\n",
       "      <td>False</td>\n",
       "      <td>False</td>\n",
       "      <td>False</td>\n",
       "      <td>False</td>\n",
       "      <td>False</td>\n",
       "      <td>False</td>\n",
       "      <td>False</td>\n",
       "      <td>False</td>\n",
       "      <td>False</td>\n",
       "      <td>False</td>\n",
       "      <td>False</td>\n",
       "      <td>False</td>\n",
       "      <td>False</td>\n",
       "      <td>False</td>\n",
       "      <td>False</td>\n",
       "      <td>False</td>\n",
       "      <td>False</td>\n",
       "      <td>False</td>\n",
       "      <td>False</td>\n",
       "      <td>False</td>\n",
       "      <td>True</td>\n",
       "    </tr>\n",
       "  </tbody>\n",
       "</table>\n",
       "</div>"
      ],
      "text/plain": [
       "          A2     A3     A7    A10    A14   A4_1   A4_2   A4_3   A5_1   A5_2  \\\n",
       "A2     True   False  False  False  False  False  False  False  False  False   \n",
       "A3     False  True   False  False  False  False  False  False  False  False   \n",
       "A7     False  False  True   False  False  False  False  False  False  False   \n",
       "A10    False  False  False  True   False  False  False  False  False  False   \n",
       "A14    False  False  False  False  True   False  False  False  False  False   \n",
       "A4_1   False  False  False  False  False  True   False  False  False  False   \n",
       "A4_2   False  False  False  False  False  False  True   False  False  False   \n",
       "A4_3   False  False  False  False  False  False  False  True   False  False   \n",
       "A5_1   False  False  False  False  False  False  False  False  True   False   \n",
       "A5_2   False  False  False  False  False  False  False  False  False  True    \n",
       "A5_3   False  False  False  False  False  False  False  False  False  False   \n",
       "A5_4   False  False  False  False  False  False  False  False  False  False   \n",
       "A5_5   False  False  False  False  False  False  False  False  False  False   \n",
       "A5_6   False  False  False  False  False  False  False  False  False  False   \n",
       "A5_7   False  False  False  False  False  False  False  False  False  False   \n",
       "A5_8   False  False  False  False  False  False  False  False  False  False   \n",
       "A5_9   False  False  False  False  False  False  False  False  False  False   \n",
       "A5_10  False  False  False  False  False  False  False  False  False  False   \n",
       "A5_11  False  False  False  False  False  False  False  False  False  False   \n",
       "A5_12  False  False  False  False  False  False  False  False  False  False   \n",
       "A5_13  False  False  False  False  False  False  False  False  False  False   \n",
       "A5_14  False  False  False  False  False  False  False  False  False  False   \n",
       "A6_1   False  False  False  False  False  False  False  False  True   False   \n",
       "A6_2   False  False  False  False  False  False  False  False  False  False   \n",
       "A6_3   False  False  False  False  False  False  False  False  False  False   \n",
       "A6_4   False  False  False  False  False  False  False  False  False  False   \n",
       "A6_5   False  False  False  False  False  False  False  False  False  False   \n",
       "A6_7   False  False  False  False  False  False  False  False  False  False   \n",
       "A6_8   False  False  False  False  False  False  False  False  False  False   \n",
       "A6_9   False  False  False  False  False  False  False  False  False  False   \n",
       "A8     False  False  False  False  False  False  False  False  False  False   \n",
       "A9     False  False  False  False  False  False  False  False  False  False   \n",
       "\n",
       "        A5_3   A5_4   A5_5   A5_6   A5_7   A5_8   A5_9  A5_10  A5_11  A5_12  \\\n",
       "A2     False  False  False  False  False  False  False  False  False  False   \n",
       "A3     False  False  False  False  False  False  False  False  False  False   \n",
       "A7     False  False  False  False  False  False  False  False  False  False   \n",
       "A10    False  False  False  False  False  False  False  False  False  False   \n",
       "A14    False  False  False  False  False  False  False  False  False  False   \n",
       "A4_1   False  False  False  False  False  False  False  False  False  False   \n",
       "A4_2   False  False  False  False  False  False  False  False  False  False   \n",
       "A4_3   False  False  False  False  False  False  False  False  False  False   \n",
       "A5_1   False  False  False  False  False  False  False  False  False  False   \n",
       "A5_2   False  False  False  False  False  False  False  False  False  False   \n",
       "A5_3   True   False  False  False  False  False  False  False  False  False   \n",
       "A5_4   False  True   False  False  False  False  False  False  False  False   \n",
       "A5_5   False  False  True   False  False  False  False  False  False  False   \n",
       "A5_6   False  False  False  True   False  False  False  False  False  False   \n",
       "A5_7   False  False  False  False  True   False  False  False  False  False   \n",
       "A5_8   False  False  False  False  False  True   False  False  False  False   \n",
       "A5_9   False  False  False  False  False  False  True   False  False  False   \n",
       "A5_10  False  False  False  False  False  False  False  True   False  False   \n",
       "A5_11  False  False  False  False  False  False  False  False  True   False   \n",
       "A5_12  False  False  False  False  False  False  False  False  False  True    \n",
       "A5_13  False  False  False  False  False  False  False  False  False  False   \n",
       "A5_14  False  False  False  False  False  False  False  False  False  False   \n",
       "A6_1   False  False  False  False  False  False  False  False  False  False   \n",
       "A6_2   False  False  False  False  False  False  False  False  False  False   \n",
       "A6_3   False  False  False  False  False  False  False  False  False  False   \n",
       "A6_4   False  False  False  False  False  False  False  False  False  False   \n",
       "A6_5   False  False  False  False  False  False  False  False  False  False   \n",
       "A6_7   False  False  False  False  False  False  False  False  False  False   \n",
       "A6_8   False  False  False  False  False  False  False  False  False  False   \n",
       "A6_9   False  False  False  False  False  False  False  False  False  False   \n",
       "A8     False  False  False  False  False  False  False  False  False  False   \n",
       "A9     False  False  False  False  False  False  False  False  False  False   \n",
       "\n",
       "       A5_13  A5_14   A6_1   A6_2   A6_3   A6_4   A6_5   A6_7   A6_8   A6_9  \\\n",
       "A2     False  False  False  False  False  False  False  False  False  False   \n",
       "A3     False  False  False  False  False  False  False  False  False  False   \n",
       "A7     False  False  False  False  False  False  False  False  False  False   \n",
       "A10    False  False  False  False  False  False  False  False  False  False   \n",
       "A14    False  False  False  False  False  False  False  False  False  False   \n",
       "A4_1   False  False  False  False  False  False  False  False  False  False   \n",
       "A4_2   False  False  False  False  False  False  False  False  False  False   \n",
       "A4_3   False  False  False  False  False  False  False  False  False  False   \n",
       "A5_1   False  False  True   False  False  False  False  False  False  False   \n",
       "A5_2   False  False  False  False  False  False  False  False  False  False   \n",
       "A5_3   False  False  False  False  False  False  False  False  False  False   \n",
       "A5_4   False  False  False  False  False  False  False  False  False  False   \n",
       "A5_5   False  False  False  False  False  False  False  False  False  False   \n",
       "A5_6   False  False  False  False  False  False  False  False  False  False   \n",
       "A5_7   False  False  False  False  False  False  False  False  False  False   \n",
       "A5_8   False  False  False  False  False  False  False  False  False  False   \n",
       "A5_9   False  False  False  False  False  False  False  False  False  False   \n",
       "A5_10  False  False  False  False  False  False  False  False  False  False   \n",
       "A5_11  False  False  False  False  False  False  False  False  False  False   \n",
       "A5_12  False  False  False  False  False  False  False  False  False  False   \n",
       "A5_13  True   False  False  False  False  False  False  False  False  False   \n",
       "A5_14  False  True   False  False  False  False  False  False  False  False   \n",
       "A6_1   False  False  True   False  False  False  False  False  False  False   \n",
       "A6_2   False  False  False  True   False  False  False  False  False  False   \n",
       "A6_3   False  False  False  False  True   False  False  False  False  False   \n",
       "A6_4   False  False  False  False  False  True   False  False  False  False   \n",
       "A6_5   False  False  False  False  False  False  True   False  False  False   \n",
       "A6_7   False  False  False  False  False  False  False  True   False  False   \n",
       "A6_8   False  False  False  False  False  False  False  False  True   False   \n",
       "A6_9   False  False  False  False  False  False  False  False  False  True    \n",
       "A8     False  False  False  False  False  False  False  False  False  False   \n",
       "A9     False  False  False  False  False  False  False  False  False  False   \n",
       "\n",
       "          A8     A9  \n",
       "A2     False  False  \n",
       "A3     False  False  \n",
       "A7     False  False  \n",
       "A10    False  False  \n",
       "A14    False  False  \n",
       "A4_1   False  False  \n",
       "A4_2   False  False  \n",
       "A4_3   False  False  \n",
       "A5_1   False  False  \n",
       "A5_2   False  False  \n",
       "A5_3   False  False  \n",
       "A5_4   False  False  \n",
       "A5_5   False  False  \n",
       "A5_6   False  False  \n",
       "A5_7   False  False  \n",
       "A5_8   False  False  \n",
       "A5_9   False  False  \n",
       "A5_10  False  False  \n",
       "A5_11  False  False  \n",
       "A5_12  False  False  \n",
       "A5_13  False  False  \n",
       "A5_14  False  False  \n",
       "A6_1   False  False  \n",
       "A6_2   False  False  \n",
       "A6_3   False  False  \n",
       "A6_4   False  False  \n",
       "A6_5   False  False  \n",
       "A6_7   False  False  \n",
       "A6_8   False  False  \n",
       "A6_9   False  False  \n",
       "A8     True   False  \n",
       "A9     False  True   "
      ]
     },
     "execution_count": 392,
     "metadata": {},
     "output_type": "execute_result"
    }
   ],
   "source": [
    "pd.set_option('display.max_columns', None)\n",
    "\n",
    "X_train.corr() > 0.7"
   ]
  },
  {
   "cell_type": "code",
   "execution_count": 393,
   "metadata": {
    "collapsed": false
   },
   "outputs": [
    {
     "data": {
      "text/html": [
       "<div>\n",
       "<table border=\"1\" class=\"dataframe\">\n",
       "  <thead>\n",
       "    <tr style=\"text-align: right;\">\n",
       "      <th></th>\n",
       "      <th>A5_1</th>\n",
       "      <th>A6_1</th>\n",
       "    </tr>\n",
       "  </thead>\n",
       "  <tbody>\n",
       "    <tr>\n",
       "      <th>A5_1</th>\n",
       "      <td>1.000000</td>\n",
       "      <td>0.946905</td>\n",
       "    </tr>\n",
       "    <tr>\n",
       "      <th>A6_1</th>\n",
       "      <td>0.946905</td>\n",
       "      <td>1.000000</td>\n",
       "    </tr>\n",
       "  </tbody>\n",
       "</table>\n",
       "</div>"
      ],
      "text/plain": [
       "          A5_1      A6_1\n",
       "A5_1  1.000000  0.946905\n",
       "A6_1  0.946905  1.000000"
      ]
     },
     "execution_count": 393,
     "metadata": {},
     "output_type": "execute_result"
    }
   ],
   "source": [
    "X_train[[\"A5_1\", \"A6_1\"]].corr()"
   ]
  },
  {
   "cell_type": "markdown",
   "metadata": {},
   "source": [
    "### Уберем один из сильно коррелирующих столбцов"
   ]
  },
  {
   "cell_type": "code",
   "execution_count": 394,
   "metadata": {
    "collapsed": false
   },
   "outputs": [],
   "source": [
    "X_train_new = X_train.drop('A5_1', axis = 1)\n",
    "X_test_new = X_test.drop('A5_1', axis = 1)"
   ]
  },
  {
   "cell_type": "code",
   "execution_count": 395,
   "metadata": {
    "collapsed": false
   },
   "outputs": [
    {
     "name": "stdout",
     "output_type": "stream",
     "text": [
      "0.134575569358 0.144927536232\n"
     ]
    }
   ],
   "source": [
    "lda_model = discriminant_analysis.LinearDiscriminantAnalysis()\n",
    "lda_model.fit(X_train_new, y_train)\n",
    "y_train_predict = lda_model.predict(X_train_new)\n",
    "y_test_predict = lda_model.predict(X_test_new)\n",
    "\n",
    "err_train = np.mean(y_train != y_train_predict)\n",
    "err_test  = np.mean(y_test  != y_test_predict)\n",
    "\n",
    "print(err_train, err_test)"
   ]
  },
  {
   "cell_type": "markdown",
   "metadata": {
    "collapsed": true
   },
   "source": [
    "# QDA"
   ]
  },
  {
   "cell_type": "code",
   "execution_count": 396,
   "metadata": {
    "collapsed": false
   },
   "outputs": [
    {
     "name": "stdout",
     "output_type": "stream",
     "text": [
      "0.389233954451 0.410628019324\n"
     ]
    }
   ],
   "source": [
    "from sklearn import discriminant_analysis\n",
    "qda_model = discriminant_analysis.QuadraticDiscriminantAnalysis()\n",
    "qda_model.fit(X_train_new, y_train)\n",
    "y_train_predict = qda_model.predict(X_train_new)\n",
    "y_test_predict = qda_model.predict(X_test_new)\n",
    "\n",
    "err_train = np.mean(y_train != y_train_predict)\n",
    "err_test  = np.mean(y_test  != y_test_predict)\n",
    "\n",
    "print(err_train, err_test)"
   ]
  },
  {
   "cell_type": "code",
   "execution_count": 397,
   "metadata": {
    "collapsed": false
   },
   "outputs": [
    {
     "name": "stdout",
     "output_type": "stream",
     "text": [
      "0.194616977226 0.02\n"
     ]
    },
    {
     "data": {
      "text/plain": [
       "[<matplotlib.lines.Line2D at 0x17598f1b278>]"
      ]
     },
     "execution_count": 397,
     "metadata": {},
     "output_type": "execute_result"
    },
    {
     "data": {
      "image/png": "[encoded data removed]",
      "text/plain": [
       "<matplotlib.figure.Figure at 0x17599359eb8>"
      ]
     },
     "metadata": {},
     "output_type": "display_data"
    }
   ],
   "source": [
    "\n",
    "reg_param = np.linspace(start=0.01, stop = 1.0, num = 100)\n",
    "grid = GridSearchCV(qda_model, param_grid = {'reg_param': reg_param}, cv=10)\n",
    "grid.fit(X_train_new, y_train)\n",
    "err_train = list()\n",
    "err_test = list()\n",
    "best_cv_err = 1 - grid.best_score_\n",
    "best_reg_param = grid.best_estimator_.reg_param\n",
    "print(best_cv_err, best_reg_param)\n",
    "err_cv = list(map(lambda x: 1 - x[1], grid.grid_scores_))\n",
    "for c in reg_param:\n",
    "    qda_model = discriminant_analysis.QuadraticDiscriminantAnalysis(reg_param = c)\n",
    "    qda_model.fit(X_train_new, y_train)\n",
    "    y_train_pred      = qda_model.predict(X_train_new)\n",
    "    y_test_pred = qda_model.predict(X_test_new)\n",
    "    err_train.append(np.mean(y_train != y_train_pred))\n",
    "    err_test.append(np.mean(y_test != y_test_pred))\n",
    "plt.plot(reg_param, err_train, 'r')\n",
    "plt.plot(reg_param, err_test, 'b')\n",
    "plt.plot(reg_param, err_cv, 'g')"
   ]
  },
  {
   "cell_type": "code",
   "execution_count": 398,
   "metadata": {
    "collapsed": false
   },
   "outputs": [
    {
     "name": "stdout",
     "output_type": "stream",
     "text": [
      "0.15734989648 0.188405797101\n"
     ]
    }
   ],
   "source": [
    "qda_model = discriminant_analysis.QuadraticDiscriminantAnalysis(reg_param = best_reg_param)\n",
    "qda_model.fit(X_train_new, y_train)\n",
    "y_train_predict = qda_model.predict(X_train_new)\n",
    "y_test_predict = qda_model.predict(X_test_new)\n",
    "\n",
    "err_train = np.mean(y_train != y_train_predict)\n",
    "err_test  = np.mean(y_test  != y_test_predict)\n",
    "\n",
    "print(err_train, err_test)"
   ]
  },
  {
   "cell_type": "code",
   "execution_count": 399,
   "metadata": {
    "collapsed": false
   },
   "outputs": [
    {
     "name": "stdout",
     "output_type": "stream",
     "text": [
      "0.142857142857 0.144927536232\n"
     ]
    }
   ],
   "source": [
    "from sklearn.svm import SVC\n",
    "svc = SVC()\n",
    "svc.fit(X_train, y_train)\n",
    "\n",
    "err_train = np.mean(y_train != svc.predict(X_train))\n",
    "err_test  = np.mean(y_test  != svc.predict(X_test))\n",
    "\n",
    "print(err_train, err_test)"
   ]
  },
  {
   "cell_type": "markdown",
   "metadata": {},
   "source": [
    "### Подбор параметров"
   ]
  },
  {
   "cell_type": "code",
   "execution_count": 400,
   "metadata": {
    "collapsed": false
   },
   "outputs": [
    {
     "name": "stdout",
     "output_type": "stream",
     "text": [
      "0.144927536232 1.0 0.134575569358 0.01\n"
     ]
    }
   ],
   "source": [
    "from sklearn.grid_search import GridSearchCV\n",
    "Cs = 10.**np.arange(-5, 5)\n",
    "gamma_array = 10.**np.arange(-5, 5)\n",
    "svc = SVC()\n",
    "grid = GridSearchCV(svc, param_grid = {'C': Cs}, cv =10)\n",
    "grid.fit(X_train, y_train)\n",
    "err_cv_C = list(map(lambda x: 1 - x[1], grid.grid_scores_))\n",
    "best_cv_err_C = 1 - grid.best_score_\n",
    "best_C = grid.best_estimator_.C\n",
    "grid = GridSearchCV(svc, param_grid = {'gamma': gamma_array})\n",
    "grid.fit(X_train, y_train)\n",
    "err_cv_gamma = list(map(lambda x: 1 - x[1], grid.grid_scores_))\n",
    "best_cv_err_gamma = 1 - grid.best_score_\n",
    "grid.fit(X_train, y_train)\n",
    "best_gamma = grid.best_estimator_.gamma\n",
    "print(best_cv_err_C, best_C, best_cv_err_gamma, best_gamma)"
   ]
  },
  {
   "cell_type": "code",
   "execution_count": 401,
   "metadata": {
    "collapsed": false
   },
   "outputs": [],
   "source": [
    "params = []\n",
    "for x in Cs:\n",
    "    for y in gamma_array:\n",
    "        params.append({'C': x, 'gamma': y})"
   ]
  },
  {
   "cell_type": "markdown",
   "metadata": {},
   "source": [
    "## Изменяем параметр С"
   ]
  },
  {
   "cell_type": "code",
   "execution_count": 402,
   "metadata": {
    "collapsed": false
   },
   "outputs": [
    {
     "data": {
      "text/plain": [
       "[<matplotlib.lines.Line2D at 0x17598fa1e10>]"
      ]
     },
     "execution_count": 402,
     "metadata": {},
     "output_type": "execute_result"
    },
    {
     "data": {
      "image/png": "[encoded data removed]",
      "text/plain": [
       "<matplotlib.figure.Figure at 0x17598f1d5c0>"
      ]
     },
     "metadata": {},
     "output_type": "display_data"
    }
   ],
   "source": [
    "err_train = list()\n",
    "err_test = list()\n",
    "for c in Cs:\n",
    "    svc = SVC(C=c)\n",
    "    svc.fit(X_train, y_train)\n",
    "    y_train_pred      = svc.predict(X_train)\n",
    "    y_test_pred = svc.predict(X_test)\n",
    "    err_train.append(np.mean(y_train != y_train_pred))\n",
    "    err_test.append(np.mean(y_test != y_test_pred))\n",
    "plt.plot(Cs, err_train, 'r')\n",
    "plt.plot(Cs, err_test, 'b')\n",
    "plt.plot(Cs, err_cv_C, 'g')"
   ]
  },
  {
   "cell_type": "markdown",
   "metadata": {},
   "source": [
    "## Изменяем параметр gamma"
   ]
  },
  {
   "cell_type": "code",
   "execution_count": 403,
   "metadata": {
    "collapsed": false
   },
   "outputs": [
    {
     "data": {
      "text/plain": [
       "[<matplotlib.lines.Line2D at 0x17598feff28>]"
      ]
     },
     "execution_count": 403,
     "metadata": {},
     "output_type": "execute_result"
    },
    {
     "data": {
      "image/png": "[encoded data removed]",
      "text/plain": [
       "<matplotlib.figure.Figure at 0x17598f1c198>"
      ]
     },
     "metadata": {},
     "output_type": "display_data"
    }
   ],
   "source": [
    "err_train = list()\n",
    "err_test = list()\n",
    "for g in gamma_array:\n",
    "    svc = SVC(gamma = g)\n",
    "    svc.fit(X_train, y_train)\n",
    "    y_train_pred      = svc.predict(X_train)\n",
    "    y_test_pred = svc.predict(X_test)\n",
    "    err_train.append(np.mean(y_train != y_train_pred))\n",
    "    err_test.append(np.mean(y_test != y_test_pred))\n",
    "plt.plot(Cs, err_train, 'r')\n",
    "plt.plot(Cs, err_test, 'b')\n",
    "plt.plot(Cs, err_cv_gamma, 'g')"
   ]
  },
  {
   "cell_type": "code",
   "execution_count": 404,
   "metadata": {
    "collapsed": false
   },
   "outputs": [
    {
     "name": "stdout",
     "output_type": "stream",
     "text": [
      "0.153209109731 0.135265700483\n"
     ]
    }
   ],
   "source": [
    "svc = SVC(C = best_C, gamma = best_gamma).fit(X_train, y_train)\n",
    "\n",
    "err_train = np.mean(y_train != knn.predict(X_train))\n",
    "err_test  = np.mean(y_test  != knn.predict(X_test))\n",
    "\n",
    "print(err_train, err_test)"
   ]
  },
  {
   "cell_type": "markdown",
   "metadata": {},
   "source": [
    "# Naive Bayes"
   ]
  },
  {
   "cell_type": "code",
   "execution_count": 405,
   "metadata": {
    "collapsed": false
   },
   "outputs": [
    {
     "name": "stdout",
     "output_type": "stream",
     "text": [
      "0.287784679089 0.275362318841\n"
     ]
    }
   ],
   "source": [
    "from sklearn.naive_bayes import GaussianNB\n",
    "gnb_model = GaussianNB()\n",
    "gnb_model.fit(X_train, y_train)\n",
    "err_train = np.mean(y_train != gnb_model.predict(X_train))\n",
    "err_test  = np.mean(y_test  != gnb_model.predict(X_test))\n",
    "\n",
    "print(err_train, err_test)"
   ]
  },
  {
   "cell_type": "code",
   "execution_count": 406,
   "metadata": {
    "collapsed": false
   },
   "outputs": [
    {
     "data": {
      "text/plain": [
       "array([ 268.,  215.])"
      ]
     },
     "execution_count": 406,
     "metadata": {},
     "output_type": "execute_result"
    }
   ],
   "source": [
    "gnb_model.class_count_"
   ]
  },
  {
   "cell_type": "code",
   "execution_count": 407,
   "metadata": {
    "collapsed": false
   },
   "outputs": [
    {
     "name": "stdout",
     "output_type": "stream",
     "text": [
      "0.138716356108 0.159420289855\n"
     ]
    }
   ],
   "source": [
    "from sklearn.naive_bayes import BernoulliNB\n",
    "bnb_model = BernoulliNB(class_prior= list([0.55486542,  0.44513458]))\n",
    "bnb_model.fit(X_train, y_train)\n",
    "err_train = np.mean(y_train != bnb_model.predict(X_train))\n",
    "err_test  = np.mean(y_test  != bnb_model.predict(X_test))\n",
    "\n",
    "print(err_train, err_test)"
   ]
  },
  {
   "cell_type": "code",
   "execution_count": 408,
   "metadata": {
    "collapsed": false
   },
   "outputs": [
    {
     "name": "stdout",
     "output_type": "stream",
     "text": [
      "0.136645962733 [0.79000000000000004, 0.20999999999999996]\n"
     ]
    }
   ],
   "source": [
    "prior1 = np.linspace(start=0.01, stop = 1.0, num = 100)\n",
    "prior = list(map(lambda x: [x, 1-x], prior1))\n",
    "grid = GridSearchCV(bnb_model, param_grid = {'class_prior': prior}, cv=10)\n",
    "grid.fit(X_train, y_train)\n",
    "best_cv_err = 1 - grid.best_score_\n",
    "best_prior = grid.best_estimator_.class_prior\n",
    "print(best_cv_err, best_prior)\n",
    "err_cv = list(map(lambda x: 1 - x[1], grid.grid_scores_))"
   ]
  },
  {
   "cell_type": "code",
   "execution_count": 409,
   "metadata": {
    "collapsed": false
   },
   "outputs": [
    {
     "data": {
      "text/plain": [
       "[<matplotlib.lines.Line2D at 0x17599074f60>]"
      ]
     },
     "execution_count": 409,
     "metadata": {},
     "output_type": "execute_result"
    },
    {
     "data": {
      "image/png": "[encoded data removed]",
      "text/plain": [
       "<matplotlib.figure.Figure at 0x17599023b38>"
      ]
     },
     "metadata": {},
     "output_type": "display_data"
    }
   ],
   "source": [
    "err_train = list()\n",
    "err_test = list()\n",
    "for c in prior:\n",
    "    bnb_model = BernoulliNB(class_prior=c)\n",
    "    bnb_model.fit(X_train, y_train)\n",
    "    y_train_pred      = bnb_model.predict(X_train)\n",
    "    y_test_pred = bnb_model.predict(X_test)\n",
    "    err_train.append(np.mean(y_train != y_train_pred))\n",
    "    err_test.append(np.mean(y_test != y_test_pred))\n",
    "plt.plot(prior1, err_train, 'r')\n",
    "plt.plot(prior1, err_test, 'b')\n",
    "plt.plot(prior1, err_cv, 'g')"
   ]
  },
  {
   "cell_type": "code",
   "execution_count": 410,
   "metadata": {
    "collapsed": false
   },
   "outputs": [
    {
     "name": "stdout",
     "output_type": "stream",
     "text": [
      "0.140786749482 0.173913043478\n"
     ]
    }
   ],
   "source": [
    "from sklearn.naive_bayes import BernoulliNB\n",
    "bnb_model = BernoulliNB(class_prior= best_prior)\n",
    "bnb_model.fit(X_train, y_train)\n",
    "err_train = np.mean(y_train != bnb_model.predict(X_train))\n",
    "err_test  = np.mean(y_test  != bnb_model.predict(X_test))\n",
    "\n",
    "print(err_train, err_test)"
   ]
  },
  {
   "cell_type": "code",
   "execution_count": null,
   "metadata": {
    "collapsed": true
   },
   "outputs": [],
   "source": []
  },
  {
   "cell_type": "code",
   "execution_count": null,
   "metadata": {
    "collapsed": true
   },
   "outputs": [],
   "source": []
  },
  {
   "cell_type": "code",
   "execution_count": null,
   "metadata": {
    "collapsed": true
   },
   "outputs": [],
   "source": []
  },
  {
   "cell_type": "code",
   "execution_count": null,
   "metadata": {
    "collapsed": true
   },
   "outputs": [],
   "source": []
  },
  {
   "cell_type": "code",
   "execution_count": null,
   "metadata": {
    "collapsed": true
   },
   "outputs": [],
   "source": []
  },
  {
   "cell_type": "code",
   "execution_count": null,
   "metadata": {
    "collapsed": true
   },
   "outputs": [],
   "source": []
  },
  {
   "cell_type": "code",
   "execution_count": null,
   "metadata": {
    "collapsed": true
   },
   "outputs": [],
   "source": []
  },
  {
   "cell_type": "code",
   "execution_count": null,
   "metadata": {
    "collapsed": true
   },
   "outputs": [],
   "source": []
  },
  {
   "cell_type": "code",
   "execution_count": null,
   "metadata": {
    "collapsed": true
   },
   "outputs": [],
   "source": []
  },
  {
   "cell_type": "code",
   "execution_count": null,
   "metadata": {
    "collapsed": true
   },
   "outputs": [],
   "source": []
  },
  {
   "cell_type": "code",
   "execution_count": null,
   "metadata": {
    "collapsed": true
   },
   "outputs": [],
   "source": []
  },
  {
   "cell_type": "code",
   "execution_count": null,
   "metadata": {
    "collapsed": true
   },
   "outputs": [],
   "source": []
  },
  {
   "cell_type": "code",
   "execution_count": null,
   "metadata": {
    "collapsed": true
   },
   "outputs": [],
   "source": []
  },
  {
   "cell_type": "code",
   "execution_count": null,
   "metadata": {
    "collapsed": true
   },
   "outputs": [],
   "source": []
  },
  {
   "cell_type": "code",
   "execution_count": null,
   "metadata": {
    "collapsed": true
   },
   "outputs": [],
   "source": []
  },
  {
   "cell_type": "code",
   "execution_count": null,
   "metadata": {
    "collapsed": true
   },
   "outputs": [],
   "source": []
  },
  {
   "cell_type": "code",
   "execution_count": null,
   "metadata": {
    "collapsed": true
   },
   "outputs": [],
   "source": []
  },
  {
   "cell_type": "markdown",
   "metadata": {},
   "source": [
    "# Random Forest"
   ]
  },
  {
   "cell_type": "code",
   "execution_count": 80,
   "metadata": {
    "collapsed": false
   },
   "outputs": [
    {
     "name": "stdout",
     "output_type": "stream",
     "text": [
      "4.3875043875e-05 0.167673252124\n"
     ]
    }
   ],
   "source": [
    "from sklearn import ensemble\n",
    "rf = ensemble.RandomForestClassifier(n_estimators = 1000)\n",
    "rf.fit(X_train, y_train)\n",
    "\n",
    "err_train = np.mean(y_train != rf.predict(X_train))\n",
    "err_test  = np.mean(y_test  != rf.predict(X_test))\n",
    "\n",
    "print(err_train, err_test)"
   ]
  },
  {
   "cell_type": "markdown",
   "metadata": {},
   "source": [
    "### Значимость признаков"
   ]
  },
  {
   "cell_type": "code",
   "execution_count": 81,
   "metadata": {
    "collapsed": false
   },
   "outputs": [
    {
     "data": {
      "text/plain": [
       "[3, 234, 7, 4, 3, 32]"
      ]
     },
     "execution_count": 81,
     "metadata": {},
     "output_type": "execute_result"
    }
   ],
   "source": [
    "a=[1,2,5,70,32,3,4,7,234, 3]\n",
    "a[-1:3:-1]"
   ]
  },
  {
   "cell_type": "code",
   "execution_count": 82,
   "metadata": {
    "collapsed": false
   },
   "outputs": [
    {
     "data": {
      "text/plain": [
       "0.99999999999999967"
      ]
     },
     "execution_count": 82,
     "metadata": {},
     "output_type": "execute_result"
    }
   ],
   "source": [
    "np.sum(rf.feature_importances_)"
   ]
  },
  {
   "cell_type": "code",
   "execution_count": 83,
   "metadata": {
    "collapsed": false,
    "scrolled": true
   },
   "outputs": [
    {
     "name": "stdout",
     "output_type": "stream",
     "text": [
      "Feature ranking:\n",
      " 1. feature 'fnlwgt' (0.206736)\n",
      " 2. feature '  age' (0.183969)\n",
      " 3. feature 'education-num' (0.135674)\n",
      " 4. feature 'hours-per-week' (0.100523)\n",
      " 5. feature 'marital-status_Married-civ-spouse' (0.071025)\n",
      " 6. feature 'relationship_Husband' (0.047541)\n",
      " 7. feature 'marital-status_Never-married' (0.024367)\n",
      " 8. feature 'occupation_Exec-managerial' (0.021841)\n",
      " 9. feature '  sex' (0.013883)\n",
      "10. feature 'occupation_Prof-specialty' (0.012760)\n",
      "11. feature 'workclass_Private' (0.011500)\n",
      "12. feature 'relationship_Not-in-family' (0.011351)\n",
      "13. feature 'relationship_Wife' (0.010969)\n",
      "14. feature 'occupation_Other-service' (0.009693)\n",
      "15. feature 'workclass_Self-emp-not-inc' (0.009357)\n",
      "16. feature 'relationship_Own-child' (0.009145)\n",
      "17. feature 'workclass_Self-emp-inc' (0.007903)\n",
      "18. feature 'race_White' (0.007806)\n",
      "19. feature 'occupation_Sales' (0.007469)\n",
      "20. feature 'marital-status_Divorced' (0.007117)\n",
      "21. feature 'occupation_Craft-repair' (0.007087)\n",
      "22. feature 'workclass_Local-gov' (0.006248)\n",
      "23. feature 'relationship_Unmarried' (0.006216)\n",
      "24. feature 'occupation_Adm-clerical' (0.005919)\n",
      "25. feature 'race_Black' (0.005521)\n",
      "26. feature 'workclass_Federal-gov' (0.005429)\n",
      "27. feature 'occupation_Farming-fishing' (0.005254)\n",
      "28. feature 'occupation_Tech-support' (0.005253)\n",
      "29. feature 'workclass_State-gov' (0.005167)\n",
      "30. feature 'occupation_Transport-moving' (0.004970)\n",
      "31. feature 'occupation_Machine-op-inspct' (0.004921)\n",
      "32. feature 'workclass_private' (0.004740)\n",
      "33. feature 'race_Asian-Pac-Islander' (0.004497)\n",
      "34. feature 'occupation_Handlers-cleaners' (0.004149)\n",
      "35. feature 'occupation_Protective-serv' (0.003277)\n",
      "36. feature 'marital-status_Widowed' (0.001985)\n",
      "37. feature 'marital-status_Separated' (0.001950)\n",
      "38. feature 'relationship_Other-relative' (0.001917)\n",
      "39. feature 'race_Amer-Indian-Eskimo' (0.001835)\n",
      "40. feature 'race_Other' (0.001247)\n",
      "41. feature 'marital-status_Married-spouse-absent' (0.001069)\n",
      "42. feature 'marital-status_Married-AF-spouse' (0.000374)\n",
      "43. feature 'occupation_Priv-house-serv' (0.000243)\n",
      "44. feature 'workclass_Without-pay' (0.000052)\n",
      "45. feature 'occupation_Armed-Forces' (0.000035)\n",
      "46. feature 'workclass_Never-worked' (0.000019)\n"
     ]
    }
   ],
   "source": [
    "importances = rf.feature_importances_\n",
    "indices = np.argsort(importances)[::-1]\n",
    "\n",
    "print(\"Feature ranking:\")\n",
    "\n",
    "for f in range(d):\n",
    "    print(\"%2d. feature '%5s' (%f)\" % (f + 1, feature_names[indices[f]], importances[indices[f]]))   "
   ]
  },
  {
   "cell_type": "code",
   "execution_count": 84,
   "metadata": {
    "collapsed": false
   },
   "outputs": [
    {
     "data": {
      "text/plain": [
       "Index(['fnlwgt', 'age', 'fnlwgt'], dtype='object')"
      ]
     },
     "execution_count": 84,
     "metadata": {},
     "output_type": "execute_result"
    }
   ],
   "source": [
    "feature_names[[1,0,1]]"
   ]
  },
  {
   "cell_type": "code",
   "execution_count": 85,
   "metadata": {
    "collapsed": false
   },
   "outputs": [
    {
     "data": {
      "text/plain": [
       "(-1, 20)"
      ]
     },
     "execution_count": 85,
     "metadata": {},
     "output_type": "execute_result"
    },
    {
     "data": {
      "image/png": "[encoded data removed]",
      "text/plain": [
       "<matplotlib.figure.Figure at 0x1b3f22fdc50>"
      ]
     },
     "metadata": {},
     "output_type": "display_data"
    }
   ],
   "source": [
    "d_first = 20\n",
    "plt.title(\"Feature importances\")\n",
    "plt.bar(range(d_first), importances[indices[:d_first]], align = 'center', color = 'r')\n",
    "plt.xticks(range(d_first), feature_names[indices[:d_first]], rotation = 90)\n",
    "plt.xlim([-1, d_first])"
   ]
  },
  {
   "cell_type": "markdown",
   "metadata": {},
   "source": [
    "Использование только признаков\n",
    "`age`, `hourse-per-week`, `education-num`, `marital-status`, `relationship`, `occupation`\n",
    "существенно улучшает точность (понижает ошибку до 16-19%) на алгоритмах kNN и SVC.\n",
    "На самом деле, решающую роль играет удаление признака `fnlwgt`"
   ]
  },
  {
   "cell_type": "markdown",
   "metadata": {},
   "source": [
    "# Extremely Randomized Trees"
   ]
  },
  {
   "cell_type": "code",
   "execution_count": 86,
   "metadata": {
    "collapsed": false
   },
   "outputs": [
    {
     "name": "stdout",
     "output_type": "stream",
     "text": [
      "4.3875043875e-05 0.182311393183\n"
     ]
    }
   ],
   "source": [
    "ert = ensemble.ExtraTreesClassifier(n_estimators = 100).fit(X_train, y_train)\n",
    "\n",
    "err_train = np.mean(y_train != ert.predict(X_train))\n",
    "err_test  = np.mean(y_test  != ert.predict(X_test))\n",
    "\n",
    "print(err_train, err_test)"
   ]
  },
  {
   "cell_type": "markdown",
   "metadata": {},
   "source": [
    "# AdaBoost"
   ]
  },
  {
   "cell_type": "code",
   "execution_count": 87,
   "metadata": {
    "collapsed": false
   },
   "outputs": [
    {
     "name": "stdout",
     "output_type": "stream",
     "text": [
      "0.159178659179 0.157948612959\n"
     ]
    }
   ],
   "source": [
    "ada = ensemble.AdaBoostClassifier(n_estimators = 1000)\n",
    "ada.fit(X_train, y_train)\n",
    "\n",
    "err_train = np.mean(y_train != ada.predict(X_train))\n",
    "err_test = np.mean(y_test != ada.predict(X_test))\n",
    "\n",
    "print(err_train, err_test)"
   ]
  },
  {
   "cell_type": "markdown",
   "metadata": {},
   "source": [
    "# GBT"
   ]
  },
  {
   "cell_type": "code",
   "execution_count": 88,
   "metadata": {
    "collapsed": false
   },
   "outputs": [
    {
     "name": "stdout",
     "output_type": "stream",
     "text": [
      "0.125351000351 0.156106049749\n"
     ]
    }
   ],
   "source": [
    "gbt = ensemble.GradientBoostingClassifier(n_estimators = 1000)\n",
    "gbt.fit(X_train, y_train)\n",
    "\n",
    "err_train = np.mean(y_train != gbt.predict(X_train))\n",
    "err_test = np.mean(y_test != gbt.predict(X_test))\n",
    "\n",
    "print(err_train, err_test)"
   ]
  },
  {
   "cell_type": "code",
   "execution_count": null,
   "metadata": {
    "collapsed": true
   },
   "outputs": [],
   "source": []
  },
  {
   "cell_type": "code",
   "execution_count": null,
   "metadata": {
    "collapsed": true
   },
   "outputs": [],
   "source": []
  },
  {
   "cell_type": "code",
   "execution_count": null,
   "metadata": {
    "collapsed": true
   },
   "outputs": [],
   "source": []
  },
  {
   "cell_type": "code",
   "execution_count": null,
   "metadata": {
    "collapsed": true
   },
   "outputs": [],
   "source": []
  },
  {
   "cell_type": "code",
   "execution_count": null,
   "metadata": {
    "collapsed": true
   },
   "outputs": [],
   "source": []
  },
  {
   "cell_type": "code",
   "execution_count": null,
   "metadata": {
    "collapsed": true
   },
   "outputs": [],
   "source": []
  },
  {
   "cell_type": "code",
   "execution_count": null,
   "metadata": {
    "collapsed": true
   },
   "outputs": [],
   "source": []
  },
  {
   "cell_type": "code",
   "execution_count": null,
   "metadata": {
    "collapsed": true
   },
   "outputs": [],
   "source": []
  },
  {
   "cell_type": "code",
   "execution_count": null,
   "metadata": {
    "collapsed": true
   },
   "outputs": [],
   "source": []
  },
  {
   "cell_type": "code",
   "execution_count": null,
   "metadata": {
    "collapsed": true
   },
   "outputs": [],
   "source": []
  },
  {
   "cell_type": "code",
   "execution_count": null,
   "metadata": {
    "collapsed": true
   },
   "outputs": [],
   "source": []
  },
  {
   "cell_type": "code",
   "execution_count": null,
   "metadata": {
    "collapsed": true
   },
   "outputs": [],
   "source": []
  },
  {
   "cell_type": "code",
   "execution_count": null,
   "metadata": {
    "collapsed": true
   },
   "outputs": [],
   "source": []
  },
  {
   "cell_type": "code",
   "execution_count": null,
   "metadata": {
    "collapsed": true
   },
   "outputs": [],
   "source": []
  },
  {
   "cell_type": "code",
   "execution_count": null,
   "metadata": {
    "collapsed": true
   },
   "outputs": [],
   "source": []
  },
  {
   "cell_type": "code",
   "execution_count": null,
   "metadata": {
    "collapsed": true
   },
   "outputs": [],
   "source": []
  },
  {
   "cell_type": "code",
   "execution_count": null,
   "metadata": {
    "collapsed": true
   },
   "outputs": [],
   "source": []
  },
  {
   "cell_type": "code",
   "execution_count": null,
   "metadata": {
    "collapsed": true
   },
   "outputs": [],
   "source": []
  },
  {
   "cell_type": "code",
   "execution_count": null,
   "metadata": {
    "collapsed": true
   },
   "outputs": [],
   "source": []
  },
  {
   "cell_type": "code",
   "execution_count": null,
   "metadata": {
    "collapsed": true
   },
   "outputs": [],
   "source": []
  },
  {
   "cell_type": "code",
   "execution_count": null,
   "metadata": {
    "collapsed": true
   },
   "outputs": [],
   "source": []
  },
  {
   "cell_type": "code",
   "execution_count": null,
   "metadata": {
    "collapsed": true
   },
   "outputs": [],
   "source": []
  },
  {
   "cell_type": "code",
   "execution_count": null,
   "metadata": {
    "collapsed": true
   },
   "outputs": [],
   "source": []
  }
 ],
 "metadata": {
  "anaconda-cloud": {},
  "kernelspec": {
   "display_name": "Python [default]",
   "language": "python",
   "name": "python3"
  },
  "language_info": {
   "codemirror_mode": {
    "name": "ipython",
    "version": 3
   },
   "file_extension": ".py",
   "mimetype": "text/x-python",
   "name": "python",
   "nbconvert_exporter": "python",
   "pygments_lexer": "ipython3",
   "version": "3.5.2"
  }
 },
 "nbformat": 4,
 "nbformat_minor": 0
}
